{
  "cells": [
    {
      "cell_type": "markdown",
      "metadata": {},
      "source": [
        "# Prepare for data analyze"
      ]
    },
    {
      "cell_type": "code",
      "execution_count": 1,
      "metadata": {
        "dotnet_interactive": {
          "language": "csharp"
        }
      },
      "source": [
        "// ML.NET Nuget packages installation\n",
        "#r \"nuget:Microsoft.ML\"\n",
        "    \n",
        "//Install XPlot package\n",
        "#r \"nuget:XPlot.Plotly\"\n",
        "\n",
        "//Install Recommender\n",
        "#r \"nuget:Microsoft.ML.Recommender\"\n",
        "\n",
        "using Microsoft.ML;\n",
        "using Microsoft.ML.Recommender;\n",
        "using Microsoft.ML.Data;\n",
        "using Microsoft.ML.Trainers;\n",
        "using System.Linq;\n",
        "using XPlot.Plotly;"
      ],
      "outputs": [
        {
          "output_type": "execute_result",
          "data": {
            "text/plain": "Installing package Microsoft.ML.Recommender..."
          },
          "execution_count": 1,
          "metadata": {}
        },
        {
          "output_type": "execute_result",
          "data": {
            "text/plain": "Installing package Microsoft.ML..."
          },
          "execution_count": 1,
          "metadata": {}
        },
        {
          "output_type": "execute_result",
          "data": {
            "text/plain": "Installing package XPlot.Plotly..."
          },
          "execution_count": 1,
          "metadata": {}
        },
        {
          "output_type": "error",
          "ename": "Error",
          "evalue": "[object Object]",
          "traceback": []
        }
      ]
    },
    {
      "cell_type": "markdown",
      "metadata": {},
      "source": [
        "## Models"
      ]
    },
    {
      "cell_type": "code",
      "execution_count": 1,
      "metadata": {
        "dotnet_interactive": {
          "language": "csharp"
        }
      },
      "source": [
        "public class MovieRating\n",
        "{\n",
        "    [LoadColumn(0)]\n",
        "    public string ProductId;\n",
        "    [LoadColumn(1)]\n",
        "    public float UserId;\n",
        "    [LoadColumn(2)]\n",
        "    public float Label;\n",
        "    [LoadColumn(3)]\n",
        "    public long Time;\n",
        "}\n",
        "\n",
        "public class MovieRatingPrediction\n",
        "{\n",
        "    public float Label;\n",
        "    public float Score;\n",
        "}\n",
        ""
      ],
      "outputs": []
    },
    {
      "cell_type": "markdown",
      "metadata": {},
      "source": [
        "## Load Data"
      ]
    },
    {
      "cell_type": "code",
      "execution_count": 1,
      "metadata": {
        "dotnet_interactive": {
          "language": "csharp"
        }
      },
      "source": [
        "\n",
        "string trainDataPath = \"./Data/ratings_Home_and_Kitchen.csv\";\n",
        "string testDataPath = \"./Data/ratings_Home_and_Kitchen_test.csv\";\n",
        "MLContext mlContext = new MLContext();\n",
        "IDataView trainDataView = mlContext.Data.LoadFromTextFile<MovieRating>(trainDataPath, hasHeader: false, separatorChar: ',');\n",
        "IDataView testDataView = mlContext.Data.LoadFromTextFile<MovieRating>(testDataPath, hasHeader: false, separatorChar: ',');\n",
        "\n",
        "display(\"Schema of training DataView:\");\n",
        "display(trainDataView.Preview(10).RowView);"
      ],
      "outputs": [
        {
          "output_type": "execute_result",
          "data": {
            "text/plain": "Schema of training DataView:"
          },
          "execution_count": 1,
          "metadata": {}
        },
        {
          "output_type": "execute_result",
          "data": {
            "text/html": "<table><thead><tr><th><i>index</i></th><th>Values</th></tr></thead><tbody><tr><td>0</td><td><div class=\"dni-plaintext\">[ ProductId: A210NOCSTBT4OD, UserId: 76144010, Label: 4, Time: 1349308800 ]</div></td></tr><tr><td>1</td><td><div class=\"dni-plaintext\">[ ProductId: A28ILV4TOG8BH2, UserId: 130350590, Label: 5, Time: 1300752000 ]</div></td></tr><tr><td>2</td><td><div class=\"dni-plaintext\">[ ProductId: A31B4D7URW4DNZ, UserId: 307394530, Label: 2, Time: 1214784000 ]</div></td></tr><tr><td>3</td><td><div class=\"dni-plaintext\">[ ProductId: A2HU0RPDRZZOP1, UserId: 307394530, Label: 5, Time: 1277337600 ]</div></td></tr><tr><td>4</td><td><div class=\"dni-plaintext\">[ ProductId: A7J0XOW7DYBBD, UserId: 307394530, Label: 5, Time: 1393113600 ]</div></td></tr><tr><td>5</td><td><div class=\"dni-plaintext\">[ ProductId: A9QY9F2Y7KDFW, UserId: 307394530, Label: 5, Time: 1218499200 ]</div></td></tr><tr><td>6</td><td><div class=\"dni-plaintext\">[ ProductId: A2MGJ4CELCSG10, UserId: 307394530, Label: 5, Time: 1234137600 ]</div></td></tr><tr><td>7</td><td><div class=\"dni-plaintext\">[ ProductId: A1S0DWONNWB8NH, UserId: 307394530, Label: 5, Time: 1266278400 ]</div></td></tr><tr><td>8</td><td><div class=\"dni-plaintext\">[ ProductId: A1FUE4TEATOQVV, UserId: 307394530, Label: 3, Time: 1220659200 ]</div></td></tr><tr><td>9</td><td><div class=\"dni-plaintext\">[ ProductId: A399RHVLQVXMA1, UserId: 307394530, Label: 5, Time: 1312675200 ]</div></td></tr></tbody></table>"
          },
          "execution_count": 1,
          "metadata": {}
        }
      ]
    },
    {
      "cell_type": "code",
      "execution_count": 1,
      "metadata": {
        "dotnet_interactive": {
          "language": "csharp"
        }
      },
      "source": [
        "# Histograms"
      ],
      "outputs": [
        {
          "output_type": "error",
          "ename": "Error",
          "evalue": "[object Object]",
          "traceback": []
        }
      ]
    },
    {
      "cell_type": "markdown",
      "metadata": {},
      "source": [
        "## Get columns"
      ]
    },
    {
      "cell_type": "code",
      "execution_count": 1,
      "metadata": {
        "dotnet_interactive": {
          "language": "csharp"
        }
      },
      "source": [
        "//Extract some data into arrays for plotting:\n",
        "\n",
        "int numberOfRows = 1000;\n",
        "float[] users = trainDataView.GetColumn<float>(nameof(MovieRating.UserId)).Take(numberOfRows).ToArray();\n",
        "float[] scores = trainDataView.GetColumn<float>(nameof(MovieRating.Label)).Take(numberOfRows).ToArray();\n",
        "string[] productIds = trainDataView.GetColumn<string>(nameof(MovieRating.ProductId)).Take(numberOfRows).ToArray();\n",
        "long[] times = trainDataView.GetColumn<long>(nameof(MovieRating.Time)).Take(numberOfRows).ToArray();\n",
        "var products =  mlContext.Data.CreateEnumerable<MovieRating>(trainDataView, reuseRowObject: true);"
      ],
      "outputs": []
    },
    {
      "cell_type": "markdown",
      "metadata": {},
      "source": [
        "## Histogram numbers of scores"
      ]
    },
    {
      "cell_type": "code",
      "execution_count": 1,
      "metadata": {
        "dotnet_interactive": {
          "language": "csharp"
        }
      },
      "source": [
        "// Distribution of number of scores\n",
        "//XPlot Histogram reference: http://tpetricek.github.io/XPlot/reference/xplot-plotly-graph-histogram.html\n",
        "\n",
        "var faresHistogram = Chart.Plot(new Histogram(){x = scores, autobinx = false, nbinsx = 20});\n",
        "var layout = new Layout.Layout(){title=\"Number of scores\"};\n",
        "faresHistogram.WithLayout(layout);\n",
        "faresHistogram.WithXTitle(\"Scores\");\n",
        "faresHistogram.WithYTitle(\"Numbers\");\n",
        "faresHistogram.Show();\n",
        "display(faresHistogram);"
      ],
      "outputs": [
        {
          "output_type": "execute_result",
          "data": {
            "text/html": "<table><thead><tr><th>Height</th><th>Id</th><th>PlotlySrc</th><th>Width</th></tr></thead><tbody><tr><td><div class=\"dni-plaintext\">500</div></td><td><div class=\"dni-plaintext\">b8d40416-51f0-458f-8ccb-fefbb7088a20</div></td><td><div class=\"dni-plaintext\">https://cdn.plot.ly/plotly-latest.min.js</div></td><td><div class=\"dni-plaintext\">900</div></td></tr></tbody></table>"
          },
          "execution_count": 1,
          "metadata": {}
        }
      ]
    },
    {
      "cell_type": "markdown",
      "metadata": {},
      "source": [
        "## Scatter"
      ]
    },
    {
      "cell_type": "code",
      "execution_count": 1,
      "metadata": {
        "dotnet_interactive": {
          "language": "csharp"
        }
      },
      "source": [
        "//var collection = products.GroupBy(x=>x.ProductId).OrderByDescending(x=>x.Count());\n",
        "//var scorses = collection.First(x=>x.Any(y=>y.Label<5)).Select(x=>x.Label).Take(500);\n",
        "//display(scorses);\n",
        "var chartFareVsTime = Chart.Plot(\n",
        "    new Scatter()\n",
        "    {\n",
        "        x = times.Select(x=>new DateTime(TimeSpan.FromMilliseconds(x).Ticks)).ToArray(),\n",
        "        y = scores.Take(20),\n",
        "        mode = \"markers\",\n",
        "        marker = new Marker()\n",
        "        {\n",
        "            color = scores,\n",
        "            colorscale = \"Jet\"\n",
        "        }\n",
        "    }\n",
        ");\n",
        "\n",
        "var layout = new Layout.Layout(){title=\"Plot Scores and dateTime publish\"};\n",
        "chartFareVsTime.WithLayout(layout);\n",
        "chartFareVsTime.Width = 500;\n",
        "chartFareVsTime.Height = 500;\n",
        "chartFareVsTime.WithXTitle(\"User\");\n",
        "chartFareVsTime.WithYTitle(\"Scores\");\n",
        "chartFareVsTime.WithLegend(false);\n",
        "chartFareVsTime.Show();\n",
        "display(chartFareVsTime);"
      ],
      "outputs": [
        {
          "output_type": "execute_result",
          "data": {
            "text/html": "<table><thead><tr><th>Height</th><th>Id</th><th>PlotlySrc</th><th>Width</th></tr></thead><tbody><tr><td><div class=\"dni-plaintext\">500</div></td><td><div class=\"dni-plaintext\">3e87e1cd-46e5-43f7-a765-b6eaca3a52d2</div></td><td><div class=\"dni-plaintext\">https://cdn.plot.ly/plotly-latest.min.js</div></td><td><div class=\"dni-plaintext\">500</div></td></tr></tbody></table>"
          },
          "execution_count": 1,
          "metadata": {}
        }
      ]
    },
    {
      "cell_type": "markdown",
      "metadata": {},
      "source": [
        "# Build and train model"
      ]
    },
    {
      "cell_type": "code",
      "execution_count": 1,
      "metadata": {
        "dotnet_interactive": {
          "language": "csharp"
        }
      },
      "source": [
        "IEstimator<ITransformer> estimator = mlContext\n",
        "    .Transforms\n",
        "    .Conversion\n",
        "    .MapValueToKey(outputColumnName: \"UserIdEncoded\", inputColumnName: \"UserId\")\n",
        "    .Append(mlContext\n",
        "        .Transforms\n",
        "        .Conversion\n",
        "        .MapValueToKey(outputColumnName: \"ProductIdEncoded\", inputColumnName: \"ProductId\"));\n",
        "var options = new MatrixFactorizationTrainer.Options\n",
        "{\n",
        "    MatrixColumnIndexColumnName = \"UserIdEncoded\",\n",
        "    MatrixRowIndexColumnName = \"ProductIdEncoded\",\n",
        "    LabelColumnName = \"Label\",\n",
        "    NumberOfIterations = 20,\n",
        "    ApproximationRank = 100\n",
        "};\n",
        "var trainerEstimator = estimator\n",
        "    .Append(mlContext\n",
        "        .Recommendation()\n",
        "        .Trainers\n",
        "        .MatrixFactorization(options));\n",
        "Console.WriteLine(\"========================== Training the model =============================\");\n",
        "ITransformer model = trainerEstimator.Fit(trainDataView);\n",
        "display(model.GetOutputSchema(trainDataView.Schema))"
      ],
      "outputs": [
        {
          "output_type": "execute_result",
          "data": {
            "text/plain": "========================== Training the model =============================\r\n"
          },
          "execution_count": 1,
          "metadata": {}
        },
        {
          "output_type": "execute_result",
          "data": {
            "text/html": "<table><thead><tr><th><i>index</i></th><th>Name</th><th>Index</th><th>IsHidden</th><th>Type</th><th>Annotations</th></tr></thead><tbody><tr><td>0</td><td><div class=\"dni-plaintext\">ProductId</div></td><td><div class=\"dni-plaintext\">0</div></td><td><div class=\"dni-plaintext\">False</div></td><td><div class=\"dni-plaintext\">String</div></td><td></td></tr><tr><td>1</td><td><div class=\"dni-plaintext\">UserId</div></td><td><div class=\"dni-plaintext\">1</div></td><td><div class=\"dni-plaintext\">False</div></td><td><div class=\"dni-plaintext\">Single</div></td><td></td></tr><tr><td>2</td><td><div class=\"dni-plaintext\">Label</div></td><td><div class=\"dni-plaintext\">2</div></td><td><div class=\"dni-plaintext\">False</div></td><td><div class=\"dni-plaintext\">Single</div></td><td></td></tr><tr><td>3</td><td><div class=\"dni-plaintext\">Time</div></td><td><div class=\"dni-plaintext\">3</div></td><td><div class=\"dni-plaintext\">False</div></td><td><div class=\"dni-plaintext\">Int64</div></td><td></td></tr><tr><td>4</td><td><div class=\"dni-plaintext\">UserIdEncoded</div></td><td><div class=\"dni-plaintext\">4</div></td><td><div class=\"dni-plaintext\">False</div></td><td><div class=\"dni-plaintext\">Key&lt;UInt32, 0-280&gt;</div></td><td><div class=\"dni-plaintext\">KeyValues</div></td></tr><tr><td>5</td><td><div class=\"dni-plaintext\">ProductIdEncoded</div></td><td><div class=\"dni-plaintext\">5</div></td><td><div class=\"dni-plaintext\">False</div></td><td><div class=\"dni-plaintext\">Key&lt;UInt32, 0-999999&gt;</div></td><td><div class=\"dni-plaintext\">KeyValues</div></td></tr><tr><td>6</td><td><div class=\"dni-plaintext\">Score</div></td><td><div class=\"dni-plaintext\">6</div></td><td><div class=\"dni-plaintext\">False</div></td><td><div class=\"dni-plaintext\">Single</div></td><td><div class=\"dni-plaintext\">ScoreColumnSetId, ScoreColumnKind, ScoreValueKind</div></td></tr></tbody></table>"
          },
          "execution_count": 1,
          "metadata": {}
        }
      ]
    },
    {
      "cell_type": "markdown",
      "metadata": {},
      "source": [
        "## Evaluate model"
      ]
    },
    {
      "cell_type": "code",
      "execution_count": 1,
      "metadata": {
        "dotnet_interactive": {
          "language": "csharp"
        }
      },
      "source": [
        "public static void EvaluateModel(MLContext mlContext, IDataView testDataView, ITransformer model)\n",
        "{\n",
        "    Console.WriteLine(\"========================== Evaluating the model =============================\");\n",
        "    var prediction = model.Transform(testDataView);\n",
        "    var metrics = mlContext\n",
        "        .Regression\n",
        "        .Evaluate(prediction, labelColumnName: \"Label\", scoreColumnName: \"Score\");\n",
        "    Console.WriteLine(\"Root Mean Squared Error : \" + metrics.RootMeanSquaredError.ToString());\n",
        "    Console.WriteLine(\"RSquared: \" + metrics.RSquared.ToString());\n",
        "}\n",
        "EvaluateModel(mlContext, testDataView, model);"
      ],
      "outputs": [
        {
          "output_type": "execute_result",
          "data": {
            "text/plain": "========================== Evaluating the model =============================\r\n"
          },
          "execution_count": 1,
          "metadata": {}
        },
        {
          "output_type": "execute_result",
          "data": {
            "text/plain": "Root Mean Squared Error : 0.15041039992187646\r\n"
          },
          "execution_count": 1,
          "metadata": {}
        },
        {
          "output_type": "execute_result",
          "data": {
            "text/plain": "RSquared: 0.9720697876108068\r\n"
          },
          "execution_count": 1,
          "metadata": {}
        }
      ]
    },
    {
      "cell_type": "markdown",
      "metadata": {},
      "source": [
        "# Predict by model"
      ]
    },
    {
      "cell_type": "markdown",
      "metadata": {},
      "source": [
        "## Single prediction"
      ]
    },
    {
      "cell_type": "code",
      "execution_count": 1,
      "metadata": {
        "dotnet_interactive": {
          "language": "csharp"
        }
      },
      "source": [
        "public static void UseModelForSinglePrediction(MLContext mlContext, ITransformer model, IEnumerable<MovieRating> products)\n",
        "{\n",
        "    Console.WriteLine(\"=========================== Making a prediction =============================\");\n",
        "    var predictionEngine = mlContext\n",
        "        .Model\n",
        "        .CreatePredictionEngine<MovieRating, MovieRatingPrediction>(model);\n",
        "\n",
        "    foreach(var product in products.GroupBy(x=>x.ProductId).Select(x=>x.Key).Take(10))\n",
        "    {\n",
        "        var testInput = new MovieRating { UserId = 0307394530, ProductId = product};\n",
        "        var movieRatingPrediction = predictionEngine.Predict(testInput);\n",
        "        if (Math.Round(movieRatingPrediction.Score, 1) > 3.5)\n",
        "        {\n",
        "            Console.WriteLine(\"Product \" + testInput.ProductId + \" is recommended for user \" + testInput.UserId + \". Score=\" + movieRatingPrediction.Score);\n",
        "        }\n",
        "        else\n",
        "        {\n",
        "            Console.WriteLine(\"Product \" + testInput.ProductId + \" is not recommended for user \" + testInput.UserId + \". Score=\" + movieRatingPrediction.Score);\n",
        "        }\n",
        "    }\n",
        "}\n",
        "UseModelForSinglePrediction(mlContext, model, products);"
      ],
      "outputs": [
        {
          "output_type": "execute_result",
          "data": {
            "text/plain": "=========================== Making a prediction =============================\r\n"
          },
          "execution_count": 1,
          "metadata": {}
        },
        {
          "output_type": "execute_result",
          "data": {
            "text/plain": "Product A210NOCSTBT4OD is recommended for user 307394530. Score=4.6681795\r\n"
          },
          "execution_count": 1,
          "metadata": {}
        },
        {
          "output_type": "execute_result",
          "data": {
            "text/plain": "Product A28ILV4TOG8BH2 is recommended for user 307394530. Score=5.512721\r\n"
          },
          "execution_count": 1,
          "metadata": {}
        },
        {
          "output_type": "execute_result",
          "data": {
            "text/plain": "Product A31B4D7URW4DNZ is not recommended for user 307394530. Score=1.9500381\r\n"
          },
          "execution_count": 1,
          "metadata": {}
        },
        {
          "output_type": "execute_result",
          "data": {
            "text/plain": "Product A2HU0RPDRZZOP1 is recommended for user 307394530. Score=4.8403964\r\n"
          },
          "execution_count": 1,
          "metadata": {}
        },
        {
          "output_type": "execute_result",
          "data": {
            "text/plain": "Product A7J0XOW7DYBBD is recommended for user 307394530. Score=4.791581\r\n"
          },
          "execution_count": 1,
          "metadata": {}
        },
        {
          "output_type": "execute_result",
          "data": {
            "text/plain": "Product A9QY9F2Y7KDFW is recommended for user 307394530. Score=4.836619\r\n"
          },
          "execution_count": 1,
          "metadata": {}
        },
        {
          "output_type": "execute_result",
          "data": {
            "text/plain": "Product A2MGJ4CELCSG10 is recommended for user 307394530. Score=4.794322\r\n"
          },
          "execution_count": 1,
          "metadata": {}
        },
        {
          "output_type": "execute_result",
          "data": {
            "text/plain": "Product A1S0DWONNWB8NH is recommended for user 307394530. Score=4.832559\r\n"
          },
          "execution_count": 1,
          "metadata": {}
        },
        {
          "output_type": "execute_result",
          "data": {
            "text/plain": "Product A1FUE4TEATOQVV is not recommended for user 307394530. Score=2.9350376\r\n"
          },
          "execution_count": 1,
          "metadata": {}
        },
        {
          "output_type": "execute_result",
          "data": {
            "text/plain": "Product A399RHVLQVXMA1 is recommended for user 307394530. Score=4.8055415\r\n"
          },
          "execution_count": 1,
          "metadata": {}
        }
      ]
    },
    {
      "cell_type": "markdown",
      "metadata": {},
      "source": [
        "## SaveModel"
      ]
    },
    {
      "cell_type": "code",
      "execution_count": 1,
      "metadata": {
        "dotnet_interactive": {
          "language": "csharp"
        }
      },
      "source": [
        "var modelPath = \"./Data/MovieRecommenderModel.zip\";\n",
        "public static void SaveModel(MLContext mlContext, DataViewSchema trainDataViewSchema, ITransformer model, string modelPath)\n",
        "{\n",
        "\n",
        "    Console.WriteLine(\"========================== Saving the model to a file ==================================\");\n",
        "    mlContext\n",
        "        .Model\n",
        "        .Save(model, trainDataViewSchema, modelPath);\n",
        "}\n",
        "SaveModel(mlContext, trainDataView.Schema, model, modelPath);"
      ],
      "outputs": [
        {
          "output_type": "execute_result",
          "data": {
            "text/plain": "========================== Saving the model to a file ==================================\r\n"
          },
          "execution_count": 1,
          "metadata": {}
        }
      ]
    },
    {
      "cell_type": "markdown",
      "metadata": {},
      "source": [
        "## Get Model from a file"
      ]
    },
    {
      "cell_type": "code",
      "execution_count": 1,
      "metadata": {
        "dotnet_interactive": {
          "language": "csharp"
        }
      },
      "source": [
        "MLContext mLContext = new MLContext();\n",
        "DataViewSchema schema;\n",
        "var model1 = mlContext.Model.Load(modelPath, out schema);"
      ],
      "outputs": []
    },
    {
      "cell_type": "markdown",
      "metadata": {},
      "source": [
        "## Evaluate model from a file"
      ]
    },
    {
      "cell_type": "code",
      "execution_count": 1,
      "metadata": {
        "dotnet_interactive": {
          "language": "csharp"
        }
      },
      "source": [
        "EvaluateModel(mlContext, testDataView, model1);"
      ],
      "outputs": [
        {
          "output_type": "execute_result",
          "data": {
            "text/plain": "========================== Evaluating the model =============================\r\n"
          },
          "execution_count": 1,
          "metadata": {}
        },
        {
          "output_type": "execute_result",
          "data": {
            "text/plain": "Root Mean Squared Error : 0.15041039992187646\r\n"
          },
          "execution_count": 1,
          "metadata": {}
        },
        {
          "output_type": "execute_result",
          "data": {
            "text/plain": "RSquared: 0.9720697876108068\r\n"
          },
          "execution_count": 1,
          "metadata": {}
        }
      ]
    }
  ],
  "metadata": {
    "kernelspec": {
      "display_name": ".NET (C#)",
      "language": "C#",
      "name": ".net-csharp"
    },
    "language_info": {
      "file_extension": ".cs",
      "mimetype": "text/x-csharp",
      "name": "C#",
      "pygments_lexer": "csharp",
      "version": "8.0"
    }
  },
  "nbformat": 4,
  "nbformat_minor": 4
}