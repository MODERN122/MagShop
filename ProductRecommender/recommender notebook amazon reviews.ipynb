{
  "cells": [
    {
      "cell_type": "markdown",
      "metadata": {},
      "source": [
        "# Исследование методов построения рекомендательных систем в области продажи товаров через интернет\n",
        "## Введение\n",
        "На данный момент многие сервисы по продаже товаров через Интернет имеют рекомендатеции. Для этого соответственно необходимо разработать рекомендательную систему. Алгоритмы рекомендательных систем обычно разделяют на два типа: основанные на контенте и выборки коллаборативной фильтрации. Но в современных рекомендательных системах используют оба этих алгоритма."
      ]
    },
    {
      "cell_type": "markdown",
      "metadata": {},
      "source": [
        "## Алгоритм основанный на контенте\n",
        "Данный алгоритм основывается, как можно понять из названия, на контенте, который более предпочтителен пользователю. Главная задача которая стоит перед разработчиками рекомендательных систем - дать возможность пользователю указывать какой контент ему более предпочтителен, а какой ему не интересен.\n",
        "## Алгоритм коллаборативной фильтрации\n",
        "Данный алгоритм основывается на том, что система предлагает пользователю контент, на основе преддпочтений пользователей со смежными интересами. Для этого применяется матричная факторизация где в столбцах располагаются товары, а строки состоят из пользователей и в каждой ячейке располагается известные оценки пользователей. Главной задачей матричной факторизацией является заполнение пропусков в данной таблице."
      ]
    },
    {
      "cell_type": "markdown",
      "metadata": {},
      "source": [
        "## Подготовка среды разработки\n",
        "Перед началом работы с библиотеками машинного обучения ML.Net и визуализации XPlot. Необходимо установить nuget-пакеты и подключить данные библиотеки. Команды ниже позволяют это сделать. "
      ]
    },
    {
      "cell_type": "code",
      "execution_count": null,
      "metadata": {
        "dotnet_interactive": {
          "language": "csharp"
        }
      },
      "outputs": [
        {
          "data": {
            "text/html": [
              "<div><div></div><div></div><div><strong>Installed Packages</strong><ul><li><span>Microsoft.ML, 1.7.0</span></li><li><span>Microsoft.ML.Recommender, 0.19.0</span></li><li><span>XPlot.Plotly, 4.0.6</span></li></ul></div></div>"
            ]
          },
          "metadata": {},
          "output_type": "display_data"
        }
      ],
      "source": [
        "// ML.NET Nuget packages installation\n",
        "#r \"nuget:Microsoft.ML\"\n",
        "    \n",
        "//Install XPlot package\n",
        "#r \"nuget:XPlot.Plotly\"\n",
        "\n",
        "//Install Recommender\n",
        "#r \"nuget:Microsoft.ML.Recommender\"\n",
        "\n",
        "using Microsoft.ML;\n",
        "using Microsoft.ML.Recommender;\n",
        "using Microsoft.ML.Data;\n",
        "using Microsoft.ML.Trainers;\n",
        "using System.Linq;\n",
        "using System.Text.Json;\n",
        "using System.IO;\n",
        "using XPlot.Plotly;"
      ]
    },
    {
      "cell_type": "markdown",
      "metadata": {},
      "source": [
        "## Подготовка моделей\n",
        "Датасет для создания рекомендательной системы мы возьмем от компании amazon за 2016 год. Данный датасет содержит модели в которых есть:\n",
        "1. Идентификатор пользователя\n",
        "2. Идентификатор товара\n",
        "3. Массив оценок насколько данный отзыв был полезен\n",
        "4. Описание отзыва\n",
        "5. Общая оценка товара\n",
        "6. Краткое описание отзыва\n",
        "7. Универсальное время отзыва\n",
        "8. Время отзыва\n",
        "В качестве результата у нас будет класс PredictionModel, в котором содержится только итоговая оценка и идентификатор товара"
      ]
    },
    {
      "cell_type": "code",
      "execution_count": null,
      "metadata": {
        "dotnet_interactive": {
          "language": "csharp"
        }
      },
      "outputs": [],
      "source": [
        "public class ReviewModel\n",
        "{\n",
        "    public string reviewerID { get; set; }\n",
        "    public string asin { get; set; }\n",
        "    public string reviewerName { get; set; }\n",
        "    public int[] helpful { get; set; }\n",
        "    public string reviewText { get; set; }\n",
        "    /// <summary>\n",
        "    /// Оценка\n",
        "    /// </summary>\n",
        "    public float overall { get; set; }\n",
        "    public string summary { get; set; }\n",
        "    public int unixReviewTime { get; set; }\n",
        "    public string reviewTime { get; set; }\n",
        "}\n",
        "public class ProductPrediction\n",
        "{\n",
        "    public string asin;\n",
        "    public float Score;\n",
        "}"
      ]
    },
    {
      "cell_type": "markdown",
      "metadata": {},
      "source": [
        "## Загрузка и обработка данных\n",
        "Раздел который был взят для анализа это датасет, содержащий отзывы об одежде, обуви и ювелирных украшениях. Изначально датасет представляет собой неформатизированный json файл, который надо обработать, чтобы можно было спарсить информацию из него. Далее мы разделяем данные на тестовые и тренировочные. Одни для обучения моделей, а вторые соответственно, чтобы проверить правильность работы системы."
      ]
    },
    {
      "cell_type": "code",
      "execution_count": null,
      "metadata": {
        "dotnet_interactive": {
          "language": "csharp"
        }
      },
      "outputs": [
        {
          "data": {
            "text/plain": [
              "Schema of training DataView:"
            ]
          },
          "metadata": {},
          "output_type": "display_data"
        },
        {
          "data": {
            "text/html": [
              "<table><thead><tr><th><i>index</i></th><th>Values</th></tr></thead><tbody><tr><td>0</td><td><div class=\"dni-plaintext\">[ reviewerID: A1KLRMWW2FWPL4, asin: 0000031887, reviewerName: Amazon Customer &quot;cameramom&quot;, helpful: { Dense vector of size 2: IsDense: True, Length: 2 }, reviewText: This is a great tutu and at a really great price. It doesn&#39;t look cheap at all. I&#39;m so glad I looked on Amazon and found such an affordable tutu that isn&#39;t made poorly. A++, overall: 5, summary: Great tutu-  not cheaply made, unixReviewTime: 1297468800, reviewTime: 02 12, 2011 ]</div></td></tr></tbody></table>"
            ]
          },
          "metadata": {},
          "output_type": "display_data"
        },
        {
          "data": {
            "text/html": [
              "<div class=\"dni-plaintext\">222942</div>"
            ]
          },
          "metadata": {},
          "output_type": "display_data"
        },
        {
          "data": {
            "text/html": [
              "<div class=\"dni-plaintext\">278677</div>"
            ]
          },
          "metadata": {},
          "output_type": "display_data"
        }
      ],
      "source": [
        "var fileName = \"./Data/Clothing_Shoes_and_Jewelry_5.json\";\n",
        "var jsonString = File.ReadAllText(fileName);\n",
        "jsonString = jsonString.Replace('\\n', ',');\n",
        "var reviewsSrc = Newtonsoft.Json.JsonConvert.DeserializeObject<List<ReviewModel>>(\"[\"+jsonString+\"]\");\n",
        "MLContext mlContext = new MLContext();\n",
        "int countTest = reviewsSrc.Count()/5;\n",
        "var trainDataView = mlContext.Data.LoadFromEnumerable<ReviewModel>(reviewsSrc);\n",
        "var testDataView = mlContext.Data.LoadFromEnumerable<ReviewModel>(reviewsSrc.Take(countTest));\n",
        "display(\"Schema of training DataView:\");\n",
        "display(trainDataView.Preview(1).RowView);\n",
        "display(reviewsSrc.Skip(countTest).ToList().Count);\n",
        "display(reviewsSrc.Count);"
      ]
    },
    {
      "cell_type": "markdown",
      "metadata": {
        "dotnet_interactive": {
          "language": "markdown"
        }
      },
      "source": [
        "# Анализ данных\n",
        "Для анализа данных мы будем использовать массив оценок, времен, отзывов, имен пользователей."
      ]
    },
    {
      "cell_type": "markdown",
      "metadata": {},
      "source": [
        "Ниже представлено получение столбцов, которые далее будут использованы для диаграмм."
      ]
    },
    {
      "cell_type": "code",
      "execution_count": null,
      "metadata": {
        "dotnet_interactive": {
          "language": "csharp"
        }
      },
      "outputs": [],
      "source": [
        "//Extract some data into arrays for plotting:\n",
        "\n",
        "int numberOfRows = 1000;\n",
        "float[] scores = trainDataView.GetColumn<float>(nameof(ReviewModel.overall)).Take(numberOfRows).ToArray();\n",
        "int[] times = trainDataView.GetColumn<int>(nameof(ReviewModel.unixReviewTime)).Take(numberOfRows).ToArray();\n",
        "string[] reviews = trainDataView.GetColumn<string>(nameof(ReviewModel.reviewText)).Take(numberOfRows).ToArray();\n",
        "string[] names = trainDataView.GetColumn<string>(nameof(ReviewModel.reviewerName)).Take(numberOfRows).ToArray();"
      ]
    },
    {
      "cell_type": "markdown",
      "metadata": {},
      "source": [
        "Рассмотрим соотношение количество оценок и их значение. По оси абсцисс будут перечислены оценки, а по оси ординат их количество. Как мы видим на рисунке ниже наибольшее количество оценок на Амазоне составляют пятерки, и далее идет на уменьшение вплоть до 1. Это показывает то, что большинство пользователей оставляют положительные оценки и необходимо устанавливать минимальную оценку для рекомендации товара на отметке 3.75 ."
      ]
    },
    {
      "cell_type": "code",
      "execution_count": null,
      "metadata": {
        "dotnet_interactive": {
          "language": "csharp"
        }
      },
      "outputs": [
        {
          "data": {
            "text/html": [
              "<table><thead><tr><th>Height</th><th>Id</th><th>PlotlySrc</th><th>Width</th></tr></thead><tbody><tr><td><div class=\"dni-plaintext\">500</div></td><td><div class=\"dni-plaintext\">ef319e13-b7b4-471c-b1c9-61ab9e172752</div></td><td><div class=\"dni-plaintext\">https://cdn.plot.ly/plotly-latest.min.js</div></td><td><div class=\"dni-plaintext\">900</div></td></tr></tbody></table>"
            ]
          },
          "metadata": {},
          "output_type": "display_data"
        }
      ],
      "source": [
        "// Distribution of number of scores\n",
        "//XPlot Histogram reference: http://tpetricek.github.io/XPlot/reference/xplot-plotly-graph-histogram.html\n",
        "\n",
        "var faresHistogram = Chart.Plot(new Histogram(){x = scores, autobinx = false, nbinsx = 20});\n",
        "var layout = new Layout.Layout(){title=\"Количество оценок\"};\n",
        "faresHistogram.WithLayout(layout);\n",
        "faresHistogram.WithXTitle(\"Оценки\");\n",
        "faresHistogram.WithYTitle(\"Количество\");\n",
        "faresHistogram.Show();\n",
        "display(faresHistogram);"
      ]
    },
    {
      "cell_type": "markdown",
      "metadata": {},
      "source": [
        "Рассмотрим зависимость оценок от длины их отзыва, это нам позволит узнать кто оставляет большие отзывы, те кто недовольны или те кого всё устраивает. Для начала выведем plot с помощью которого можно будет определить выбросы, чтобы в дальнейшем отбросить эти значения и построить информативный boxplot. Рассмотрим гистограмму ниже, на ней видно, что основная часть отзывов варьируется в диапозоне от 0 до 2000 символов и есть некоторые выбросы выше вплоть до 10000. При построении boxplot`а данные значение не будут браться в расчет."
      ]
    },
    {
      "cell_type": "code",
      "execution_count": null,
      "metadata": {
        "dotnet_interactive": {
          "language": "csharp"
        }
      },
      "outputs": [
        {
          "data": {
            "text/html": [
              "<table><thead><tr><th>Height</th><th>Id</th><th>PlotlySrc</th><th>Width</th></tr></thead><tbody><tr><td><div class=\"dni-plaintext\">500</div></td><td><div class=\"dni-plaintext\">6233ac9d-6fe7-40b8-83ea-ff20bce0dcb6</div></td><td><div class=\"dni-plaintext\">https://cdn.plot.ly/plotly-latest.min.js</div></td><td><div class=\"dni-plaintext\">500</div></td></tr></tbody></table>"
            ]
          },
          "metadata": {},
          "output_type": "display_data"
        }
      ],
      "source": [
        "var chartFareVsTime = Chart.Plot(\n",
        "    new Scatter()\n",
        "    {\n",
        "        x =scores.Take(200) ,\n",
        "        y = reviews.Select(x=>x.Length).Take(200).ToArray(),\n",
        "        mode = \"markers\",\n",
        "        marker = new Marker()\n",
        "        {\n",
        "            color = scores,\n",
        "            colorscale = \"Jet\"\n",
        "        }\n",
        "    }\n",
        ");\n",
        "\n",
        "var layout = new Layout.Layout(){title=\"Plot с отношениями длин отзывов к их оценкам\"};\n",
        "chartFareVsTime.WithLayout(layout);\n",
        "chartFareVsTime.Width = 500;\n",
        "chartFareVsTime.Height = 500;\n",
        "chartFareVsTime.WithXTitle(\"Оценки\");\n",
        "chartFareVsTime.WithYTitle(\"Длина оценки\");\n",
        "chartFareVsTime.WithLegend(false);\n",
        "chartFareVsTime.Show();\n",
        "display(chartFareVsTime);"
      ]
    },
    {
      "cell_type": "markdown",
      "metadata": {},
      "source": [
        "Рассмотрим зависимость длины отзыва от его оценки, для этого используем вид гистограммы boxplot. Данная гистограмма позволяет определить в каком диапозоне находится основная часть значений и определить выбросы. Такж не стоит забывать об установленном значении в 2000 символов больше которых мы не берем в расчет. Рассмотрим данный boxplot, хоть мы и видим что у положительных отзывов гораздо больше оценок с длиной отзывов близким к 2000, но основные значения у всех оценок находятся на одном уровне. Это означает, что так как положительных оценок больше, то и в общем будет гораздо больше отзывов и по статистике будет больше отзывов с большей длиной отзывов, но основная масса также находится на отметке в 200-400 символов, также как и у остальных оценок."
      ]
    },
    {
      "cell_type": "code",
      "execution_count": null,
      "metadata": {
        "dotnet_interactive": {
          "language": "csharp"
        }
      },
      "outputs": [
        {
          "data": {
            "text/html": [
              "<table><thead><tr><th>Height</th><th>Id</th><th>PlotlySrc</th><th>Width</th></tr></thead><tbody><tr><td><div class=\"dni-plaintext\">500</div></td><td><div class=\"dni-plaintext\">8fc7bddd-cce8-46d5-88d4-b598f5c9d528</div></td><td><div class=\"dni-plaintext\">https://cdn.plot.ly/plotly-latest.min.js</div></td><td><div class=\"dni-plaintext\">500</div></td></tr></tbody></table>"
            ]
          },
          "metadata": {},
          "output_type": "display_data"
        }
      ],
      "source": [
        "var chartFareVsTime = Chart.Plot(\n",
        "    new Box()\n",
        "    {\n",
        "        x =scores ,\n",
        "        y = reviews.Select(x=>x.Length).Where(x=>x<2000).ToArray()\n",
        "    }\n",
        ");\n",
        "\n",
        "var layout = new Layout.Layout(){title=\"Boxplot с отношениями длин отзывов к их оценкам\"};\n",
        "chartFareVsTime.WithLayout(layout);\n",
        "chartFareVsTime.Width = 500;\n",
        "chartFareVsTime.Height = 500;\n",
        "chartFareVsTime.WithXTitle(\"Оценки\");\n",
        "chartFareVsTime.WithYTitle(\"Длина отзыва\");\n",
        "chartFareVsTime.WithLegend(false);\n",
        "chartFareVsTime.Show();\n",
        "display(chartFareVsTime);"
      ]
    },
    {
      "cell_type": "markdown",
      "metadata": {},
      "source": [
        "## Создание и обучение модели машинного обучения\n",
        "Для создания модели машинного обучения при матричной факторизации необходимо определить идентификатор пользователя и идентификатор товара. Затем добавить приведенные к целочисленным значениям идентификаторы и задать настройки матричной факторизации для естимейтора. Мы будем использовать метод Recommendation. Который возвращает обучающие модели и у них выберем матричную факторизацию."
      ]
    },
    {
      "cell_type": "code",
      "execution_count": null,
      "metadata": {
        "dotnet_interactive": {
          "language": "csharp"
        }
      },
      "outputs": [
        {
          "name": "stdout",
          "output_type": "stream",
          "text": [
            "========================== Training the model =============================\r\n"
          ]
        },
        {
          "data": {
            "text/html": [
              "<table><thead><tr><th><i>index</i></th><th>Name</th><th>Index</th><th>IsHidden</th><th>Type</th><th>Annotations</th></tr></thead><tbody><tr><td>0</td><td>reviewerID</td><td><div class=\"dni-plaintext\">0</div></td><td><div class=\"dni-plaintext\">False</div></td><td><table><thead><tr><th>RawType</th></tr></thead><tbody><tr><td><div class=\"dni-plaintext\">System.ReadOnlyMemory&lt;System.Char&gt;</div></td></tr></tbody></table></td><td><table><thead><tr><th>Schema</th></tr></thead><tbody><tr><td><div class=\"dni-plaintext\">[  ]</div></td></tr></tbody></table></td></tr><tr><td>1</td><td>asin</td><td><div class=\"dni-plaintext\">1</div></td><td><div class=\"dni-plaintext\">False</div></td><td><table><thead><tr><th>RawType</th></tr></thead><tbody><tr><td><div class=\"dni-plaintext\">System.ReadOnlyMemory&lt;System.Char&gt;</div></td></tr></tbody></table></td><td><table><thead><tr><th>Schema</th></tr></thead><tbody><tr><td><div class=\"dni-plaintext\">[  ]</div></td></tr></tbody></table></td></tr><tr><td>2</td><td>reviewerName</td><td><div class=\"dni-plaintext\">2</div></td><td><div class=\"dni-plaintext\">False</div></td><td><table><thead><tr><th>RawType</th></tr></thead><tbody><tr><td><div class=\"dni-plaintext\">System.ReadOnlyMemory&lt;System.Char&gt;</div></td></tr></tbody></table></td><td><table><thead><tr><th>Schema</th></tr></thead><tbody><tr><td><div class=\"dni-plaintext\">[  ]</div></td></tr></tbody></table></td></tr><tr><td>3</td><td>helpful</td><td><div class=\"dni-plaintext\">3</div></td><td><div class=\"dni-plaintext\">False</div></td><td><table><thead><tr><th>Dimensions</th><th>IsKnownSize</th><th>ItemType</th><th>Size</th><th>RawType</th></tr></thead><tbody><tr><td><div class=\"dni-plaintext\">[ 0 ]</div></td><td><div class=\"dni-plaintext\">False</div></td><td><div class=\"dni-plaintext\">{ Int32: RawType: System.Int32 }</div></td><td><div class=\"dni-plaintext\">0</div></td><td><div class=\"dni-plaintext\">Microsoft.ML.Data.VBuffer&lt;System.Int32&gt;</div></td></tr></tbody></table></td><td><table><thead><tr><th>Schema</th></tr></thead><tbody><tr><td><div class=\"dni-plaintext\">[  ]</div></td></tr></tbody></table></td></tr><tr><td>4</td><td>reviewText</td><td><div class=\"dni-plaintext\">4</div></td><td><div class=\"dni-plaintext\">False</div></td><td><table><thead><tr><th>RawType</th></tr></thead><tbody><tr><td><div class=\"dni-plaintext\">System.ReadOnlyMemory&lt;System.Char&gt;</div></td></tr></tbody></table></td><td><table><thead><tr><th>Schema</th></tr></thead><tbody><tr><td><div class=\"dni-plaintext\">[  ]</div></td></tr></tbody></table></td></tr><tr><td>5</td><td>overall</td><td><div class=\"dni-plaintext\">5</div></td><td><div class=\"dni-plaintext\">False</div></td><td><table><thead><tr><th>RawType</th></tr></thead><tbody><tr><td><div class=\"dni-plaintext\">System.Single</div></td></tr></tbody></table></td><td><table><thead><tr><th>Schema</th></tr></thead><tbody><tr><td><div class=\"dni-plaintext\">[  ]</div></td></tr></tbody></table></td></tr><tr><td>6</td><td>summary</td><td><div class=\"dni-plaintext\">6</div></td><td><div class=\"dni-plaintext\">False</div></td><td><table><thead><tr><th>RawType</th></tr></thead><tbody><tr><td><div class=\"dni-plaintext\">System.ReadOnlyMemory&lt;System.Char&gt;</div></td></tr></tbody></table></td><td><table><thead><tr><th>Schema</th></tr></thead><tbody><tr><td><div class=\"dni-plaintext\">[  ]</div></td></tr></tbody></table></td></tr><tr><td>7</td><td>unixReviewTime</td><td><div class=\"dni-plaintext\">7</div></td><td><div class=\"dni-plaintext\">False</div></td><td><table><thead><tr><th>RawType</th></tr></thead><tbody><tr><td><div class=\"dni-plaintext\">System.Int32</div></td></tr></tbody></table></td><td><table><thead><tr><th>Schema</th></tr></thead><tbody><tr><td><div class=\"dni-plaintext\">[  ]</div></td></tr></tbody></table></td></tr><tr><td>8</td><td>reviewTime</td><td><div class=\"dni-plaintext\">8</div></td><td><div class=\"dni-plaintext\">False</div></td><td><table><thead><tr><th>RawType</th></tr></thead><tbody><tr><td><div class=\"dni-plaintext\">System.ReadOnlyMemory&lt;System.Char&gt;</div></td></tr></tbody></table></td><td><table><thead><tr><th>Schema</th></tr></thead><tbody><tr><td><div class=\"dni-plaintext\">[  ]</div></td></tr></tbody></table></td></tr><tr><td>9</td><td>ReviewerIdEncoded</td><td><div class=\"dni-plaintext\">9</div></td><td><div class=\"dni-plaintext\">False</div></td><td><table><thead><tr><th>Count</th><th>RawType</th></tr></thead><tbody><tr><td><div class=\"dni-plaintext\">39387</div></td><td><div class=\"dni-plaintext\">System.UInt32</div></td></tr></tbody></table></td><td><table><thead><tr><th>Schema</th></tr></thead><tbody><tr><td><div class=\"dni-plaintext\">[ { KeyValues: Vector&lt;String, 39387&gt;: Name: KeyValues, Index: 0, IsHidden: False, Type: { Vector&lt;String, 39387&gt;: Dimensions: [ 39387 ], IsKnownSize: True, ItemType: { String: RawType: System.ReadOnlyMemory&lt;System.Char&gt; }, Size: 39387, RawType: Microsoft.ML.Data.VBuffer&lt;System.ReadOnlyMemory&lt;System.Char&gt;&gt; }, Annotations: { : Schema: [  ] } } ]</div></td></tr></tbody></table></td></tr><tr><td>10</td><td>ProductIdEncoded</td><td><div class=\"dni-plaintext\">10</div></td><td><div class=\"dni-plaintext\">False</div></td><td><table><thead><tr><th>Count</th><th>RawType</th></tr></thead><tbody><tr><td><div class=\"dni-plaintext\">23033</div></td><td><div class=\"dni-plaintext\">System.UInt32</div></td></tr></tbody></table></td><td><table><thead><tr><th>Schema</th></tr></thead><tbody><tr><td><div class=\"dni-plaintext\">[ { KeyValues: Vector&lt;String, 23033&gt;: Name: KeyValues, Index: 0, IsHidden: False, Type: { Vector&lt;String, 23033&gt;: Dimensions: [ 23033 ], IsKnownSize: True, ItemType: { String: RawType: System.ReadOnlyMemory&lt;System.Char&gt; }, Size: 23033, RawType: Microsoft.ML.Data.VBuffer&lt;System.ReadOnlyMemory&lt;System.Char&gt;&gt; }, Annotations: { : Schema: [  ] } } ]</div></td></tr></tbody></table></td></tr><tr><td>11</td><td>Score</td><td><div class=\"dni-plaintext\">11</div></td><td><div class=\"dni-plaintext\">False</div></td><td><table><thead><tr><th>RawType</th></tr></thead><tbody><tr><td><div class=\"dni-plaintext\">System.Single</div></td></tr></tbody></table></td><td><table><thead><tr><th>Schema</th></tr></thead><tbody><tr><td><div class=\"dni-plaintext\">[ { ScoreColumnSetId: Key&lt;UInt32, 0-2147483646&gt;: Name: ScoreColumnSetId, Index: 0, IsHidden: False, Type: { Key&lt;UInt32, 0-2147483646&gt;: Count: 2147483647, RawType: System.UInt32 }, Annotations: { : Schema: [  ] } }, { ScoreColumnKind: String: Name: ScoreColumnKind, Index: 1, IsHidden: False, Type: { String: RawType: System.ReadOnlyMemory&lt;System.Char&gt; }, Annotations: { : Schema: [  ] } }, { ScoreValueKind: String: Name: ScoreValueKind, Index: 2, IsHidden: False, Type: { String: RawType: System.ReadOnlyMemory&lt;System.Char&gt; }, Annotations: { : Schema: [  ] } } ]</div></td></tr></tbody></table></td></tr></tbody></table>"
            ]
          },
          "metadata": {},
          "output_type": "display_data"
        }
      ],
      "source": [
        "IEstimator<ITransformer> estimator = mlContext\n",
        "    .Transforms\n",
        "    .Conversion\n",
        "    .MapValueToKey(outputColumnName: \"ReviewerIdEncoded\", inputColumnName: $\"{nameof(ReviewModel.reviewerID)}\")\n",
        "    .Append(mlContext\n",
        "        .Transforms\n",
        "        .Conversion\n",
        "        .MapValueToKey(outputColumnName: \"ProductIdEncoded\", inputColumnName: $\"{nameof(ReviewModel.asin)}\"));\n",
        "var options = new MatrixFactorizationTrainer.Options\n",
        "{\n",
        "    MatrixColumnIndexColumnName = \"ReviewerIdEncoded\",\n",
        "    MatrixRowIndexColumnName = \"ProductIdEncoded\",\n",
        "    LabelColumnName = $\"{nameof(ReviewModel.overall)}\",\n",
        "    NumberOfIterations = 20,\n",
        "    ApproximationRank = 100\n",
        "};\n",
        "var trainerEstimator = estimator\n",
        "    .Append(mlContext\n",
        "        .Recommendation()\n",
        "        .Trainers\n",
        "        .MatrixFactorization(options));\n",
        "Console.WriteLine(\"========================== Training the model =============================\");\n",
        "ITransformer model = trainerEstimator.Fit(trainDataView);\n",
        "display(model.GetOutputSchema(trainDataView.Schema))"
      ]
    },
    {
      "cell_type": "markdown",
      "metadata": {},
      "source": [
        "## Оценка модели\n",
        "Оценим обученную модель с помощью тестовых данных, которые мы определили в самом начале. На выходе мы получаем значения ошибки и квадратичное-R, которое означает насколько модель верна. В результате мы получаем неплохие значения, где r-squared - 0.89 и квадратичное значение ошибки - 0.36. Данные значения в рамках нормы и мы считаем, что модель обучена хорошо."
      ]
    },
    {
      "cell_type": "code",
      "execution_count": null,
      "metadata": {
        "dotnet_interactive": {
          "language": "csharp"
        }
      },
      "outputs": [
        {
          "name": "stdout",
          "output_type": "stream",
          "text": [
            "========================== Evaluating the model =============================\r\n",
            "Root Mean Squared Error : 0.3637768376873756\r\n",
            "RSquared: 0.8870391363163995\r\n"
          ]
        }
      ],
      "source": [
        "public static void EvaluateModel(MLContext mlContext, IDataView testDataView, ITransformer model)\n",
        "{\n",
        "    Console.WriteLine(\"========================== Evaluating the model =============================\");\n",
        "    var prediction = model.Transform(testDataView);\n",
        "    var metrics = mlContext\n",
        "        .Regression\n",
        "        .Evaluate(prediction, labelColumnName: $\"{nameof(ReviewModel.overall)}\", scoreColumnName: $\"{nameof(ProductPrediction.Score)}\");\n",
        "    Console.WriteLine(\"Root Mean Squared Error : \" + metrics.RootMeanSquaredError.ToString());\n",
        "    Console.WriteLine(\"RSquared: \" + metrics.RSquared.ToString());\n",
        "}\n",
        "EvaluateModel(mlContext, testDataView, model);"
      ]
    },
    {
      "cell_type": "markdown",
      "metadata": {},
      "source": [
        "## Предсказания модели\n",
        "Рассмотрим как обученная модель будет предсказывать оценки пользователя. На вход мы будем подавать товар и пользователя, а обученная модель будет предполагать, какую бы оценку поставил пользователь и если данное предположение больше 3.75 баллов, то значит товар можно будет рекомендовать. Перед экспериментом мы нашли пользователя, который оставлял только положительные отзывы и мы можем предположить, что это пользователь, который остается доволен продукцией магазина. При анализе 10 товаров было выявлено, что ему могут рекомендоваться все эти товары. Но мы также можем использовать не установление жесткого ограничения, как мы сделали ранее установив границу для рекомендации товара в 3.75. К примеру можно сортировать по убыванию по оценке и первые три товара брать как рекомендованные."
      ]
    },
    {
      "cell_type": "code",
      "execution_count": null,
      "metadata": {
        "dotnet_interactive": {
          "language": "csharp"
        }
      },
      "outputs": [
        {
          "name": "stdout",
          "output_type": "stream",
          "text": [
            "=========================== Making a prediction =============================\r\n",
            "Product 0000031887 is recommended for user A1KLRMWW2FWPL4. Score=4.7728386\r\n",
            "Product 0123456479 is recommended for user A1KLRMWW2FWPL4. Score=4.377736\r\n",
            "Product 1608299953 is recommended for user A1KLRMWW2FWPL4. Score=3.968997\r\n",
            "Product 1617160377 is recommended for user A1KLRMWW2FWPL4. Score=4.7658257\r\n",
            "Product B00001W0KA is recommended for user A1KLRMWW2FWPL4. Score=4.667667\r\n",
            "Product B00001WRHJ is recommended for user A1KLRMWW2FWPL4. Score=3.9293647\r\n",
            "Product B00004SR8W is recommended for user A1KLRMWW2FWPL4. Score=4.4399595\r\n",
            "Product B00004SR8Z is recommended for user A1KLRMWW2FWPL4. Score=4.1355743\r\n",
            "Product B00004SR9P is recommended for user A1KLRMWW2FWPL4. Score=3.8792536\r\n",
            "Product B00004U1J2 is recommended for user A1KLRMWW2FWPL4. Score=3.7288003\r\n"
          ]
        }
      ],
      "source": [
        "public static void UseModelForSinglePrediction(MLContext mlContext, ITransformer model, IEnumerable<ReviewModel> products)\n",
        "{\n",
        "    Console.WriteLine(\"=========================== Making a prediction =============================\");\n",
        "    var predictionEngine = mlContext\n",
        "        .Model\n",
        "        .CreatePredictionEngine<ReviewModel, ProductPrediction>(model);\n",
        "\n",
        "    foreach(var product in products.GroupBy(x=>x.asin).Select(x=>x.Key).Take(10))\n",
        "    {\n",
        "        var testInput = new ReviewModel { reviewerID = \"A1KLRMWW2FWPL4\", asin = product};\n",
        "        var movieRatingPrediction = predictionEngine.Predict(testInput);\n",
        "        if (Math.Round(movieRatingPrediction.Score, 1) > 3.75)\n",
        "        {\n",
        "            Console.WriteLine(\"Товар \" + testInput.asin + \" рекомендуется пользователю \" + testInput.reviewerID + \". Общая оценка =\" + movieRatingPrediction.Score + \".\");\n",
        "        }\n",
        "        else\n",
        "        {\n",
        "            Console.WriteLine(\"Товар \" + testInput.asin + \" не рекомендуется пользователю \" + testInput.reviewerID + \". Общая оценка =\" + movieRatingPrediction.Score + \".\");\n",
        "        }\n",
        "    }\n",
        "}\n",
        "UseModelForSinglePrediction(mlContext, model, reviewsSrc);"
      ]
    },
    {
      "cell_type": "markdown",
      "metadata": {},
      "source": [
        "## Сохранение модели\n",
        "Модель необходимо сохранять после обучения, чтобы была возможность использовать её в дальнейшем или на других платформах. Также эту модель можно будет обучать повторно, что позволит улучшить её качество. Для сохранения необходимо выбрать папку в которую будем сохранять обученную модель. "
      ]
    },
    {
      "cell_type": "code",
      "execution_count": null,
      "metadata": {
        "dotnet_interactive": {
          "language": "csharp"
        }
      },
      "outputs": [
        {
          "name": "stdout",
          "output_type": "stream",
          "text": [
            "========================== Saving the model to a file ==================================\r\n"
          ]
        }
      ],
      "source": [
        "var modelPath = \"./Data/MovieRecommenderModel.zip\";\n",
        "public static void SaveModel(MLContext mlContext, DataViewSchema trainDataViewSchema, ITransformer model, string modelPath)\n",
        "{\n",
        "\n",
        "    Console.WriteLine(\"========================== Saving the model to a file ==================================\");\n",
        "    mlContext\n",
        "        .Model\n",
        "        .Save(model, trainDataViewSchema, modelPath);\n",
        "}\n",
        "SaveModel(mlContext, trainDataView.Schema, model, modelPath);"
      ]
    },
    {
      "cell_type": "markdown",
      "metadata": {},
      "source": [
        "## Получение модели из файла\n",
        "После того как мы сохранили обученную модель в файл её необходимо получить из файла и продолжить работу. Для этого необходимо указать путь до файла, передать схему данных, создать контекст машинного обучения и у него вызвать метод Load, который вернет обученную модель."
      ]
    },
    {
      "cell_type": "code",
      "execution_count": null,
      "metadata": {
        "dotnet_interactive": {
          "language": "csharp"
        }
      },
      "outputs": [],
      "source": [
        "MLContext mLContext = new MLContext();\n",
        "DataViewSchema schema;\n",
        "var model1 = mlContext.Model.Load(modelPath, out schema);"
      ]
    },
    {
      "cell_type": "markdown",
      "metadata": {},
      "source": [
        "Оценим модель и убедимся что она соответствует той модели, что мы сохранили ранее."
      ]
    },
    {
      "cell_type": "code",
      "execution_count": null,
      "metadata": {
        "dotnet_interactive": {
          "language": "csharp"
        }
      },
      "outputs": [
        {
          "name": "stdout",
          "output_type": "stream",
          "text": [
            "========================== Evaluating the model =============================\r\n",
            "Root Mean Squared Error : 0.3637768376873756\r\n",
            "RSquared: 0.8870391363163995\r\n"
          ]
        }
      ],
      "source": [
        "EvaluateModel(mlContext, testDataView, model1);"
      ]
    },
    {
      "cell_type": "markdown",
      "metadata": {},
      "source": [
        "## Выводы\n",
        "Были изучены методы создания моделей машинного обучения при помощи языка программирования C# и библиотеки ML.NET. В рамках изучения была получена модель машинного обучения, которая имеет процент верных предположений около 90%. Данная модель в дальнейшем будет использована для рекомендации товаров пользователям. ML.NET имеет ряд ограничений для построения больших моделей машинного обучения. Но данные ограничения не существенны, так как работая в одном языке программирования есть возможность использовать общие модели."
      ]
    }
  ],
  "metadata": {
    "kernelspec": {
      "display_name": ".NET (C#)",
      "language": "C#",
      "name": ".net-csharp"
    },
    "language_info": {
      "file_extension": ".cs",
      "mimetype": "text/x-csharp",
      "name": "C#",
      "pygments_lexer": "csharp",
      "version": "9.0"
    }
  },
  "nbformat": 4,
  "nbformat_minor": 4
}
