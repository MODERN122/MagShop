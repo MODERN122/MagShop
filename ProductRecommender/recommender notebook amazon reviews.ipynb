{
  "cells": [
    {
      "cell_type": "markdown",
      "metadata": {},
      "source": [
        "# Prepare for data analyze"
      ]
    },
    {
      "cell_type": "code",
      "execution_count": 1,
      "metadata": {
        "dotnet_interactive": {
          "language": "csharp"
        }
      },
      "source": [
        "// ML.NET Nuget packages installation\n",
        "#r \"nuget:Microsoft.ML\"\n",
        "    \n",
        "//Install XPlot package\n",
        "#r \"nuget:XPlot.Plotly\"\n",
        "\n",
        "//Install Recommender\n",
        "#r \"nuget:Microsoft.ML.Recommender\"\n",
        "\n",
        "using Microsoft.ML;\n",
        "using Microsoft.ML.Recommender;\n",
        "using Microsoft.ML.Data;\n",
        "using Microsoft.ML.Trainers;\n",
        "using System.Linq;\n",
        "using System.Text.Json;\n",
        "using System.IO;\n",
        "using XPlot.Plotly;"
      ],
      "outputs": []
    },
    {
      "cell_type": "markdown",
      "metadata": {},
      "source": [
        "## Models"
      ]
    },
    {
      "cell_type": "code",
      "execution_count": 1,
      "metadata": {
        "dotnet_interactive": {
          "language": "csharp"
        }
      },
      "source": [
        "public class ReviewModel\n",
        "{\n",
        "    public string reviewerID { get; set; }\n",
        "    public string asin { get; set; }\n",
        "    public string reviewerName { get; set; }\n",
        "    public int[] helpful { get; set; }\n",
        "    public string reviewText { get; set; }\n",
        "    /// <summary>\n",
        "    /// Оценка\n",
        "    /// </summary>\n",
        "    public float overall { get; set; }\n",
        "    public string summary { get; set; }\n",
        "    public int unixReviewTime { get; set; }\n",
        "    public string reviewTime { get; set; }\n",
        "}\n",
        "public class ProductPrediction\n",
        "{\n",
        "    public string asin;\n",
        "    public float Score;\n",
        "}"
      ],
      "outputs": []
    },
    {
      "cell_type": "markdown",
      "metadata": {},
      "source": [
        "## Load Data"
      ]
    },
    {
      "cell_type": "code",
      "execution_count": 1,
      "metadata": {
        "dotnet_interactive": {
          "language": "csharp"
        }
      },
      "source": [
        "var fileName = \"./Data/Clothing_Shoes_and_Jewelry_5.json\";\n",
        "var jsonString = File.ReadAllText(fileName);\n",
        "jsonString = jsonString.Replace('\\n', ',');\n",
        "var reviewsSrc = Newtonsoft.Json.JsonConvert.DeserializeObject<List<ReviewModel>>(\"[\"+jsonString+\"]\");\n",
        "MLContext mlContext = new MLContext();\n",
        "int countTest = reviewsSrc.Count()/8;\n",
        "var trainDataView = mlContext.Data.LoadFromEnumerable<ReviewModel>(reviewsSrc);\n",
        "var testDataView = mlContext.Data.LoadFromEnumerable<ReviewModel>(reviewsSrc.Take(countTest));\n",
        "display(\"Schema of training DataView:\");\n",
        "display(trainDataView.Preview(1).RowView);"
      ],
      "outputs": [
        {
          "output_type": "execute_result",
          "data": {
            "text/plain": "Schema of training DataView:"
          },
          "execution_count": 1,
          "metadata": {}
        },
        {
          "output_type": "execute_result",
          "data": {
            "text/html": "<table><thead><tr><th><i>index</i></th><th>Values</th></tr></thead><tbody><tr><td>0</td><td><div class=\"dni-plaintext\">[ reviewerID: A1KLRMWW2FWPL4, asin: 0000031887, reviewerName: Amazon Customer &quot;cameramom&quot;, helpful: Dense vector of size 2, reviewText: This is a great tutu and at a really great price. It doesn&#39;t look cheap at all. I&#39;m so glad I looked on Amazon and found such an affordable tutu that isn&#39;t made poorly. A++, overall: 5, summary: Great tutu-  not cheaply made, unixReviewTime: 1297468800, reviewTime: 02 12, 2011 ]</div></td></tr></tbody></table>"
          },
          "execution_count": 1,
          "metadata": {}
        }
      ]
    },
    {
      "cell_type": "code",
      "execution_count": 1,
      "metadata": {
        "dotnet_interactive": {
          "language": "csharp"
        }
      },
      "source": [
        "# Histograms"
      ],
      "outputs": [
        {
          "output_type": "error",
          "ename": "Error",
          "evalue": "[object Object]",
          "traceback": []
        }
      ]
    },
    {
      "cell_type": "markdown",
      "metadata": {},
      "source": [
        "## Get columns"
      ]
    },
    {
      "cell_type": "code",
      "execution_count": 1,
      "metadata": {
        "dotnet_interactive": {
          "language": "csharp"
        }
      },
      "source": [
        "//Extract some data into arrays for plotting:\n",
        "\n",
        "int numberOfRows = 1000;\n",
        "float[] scores = trainDataView.GetColumn<float>(nameof(ReviewModel.overall)).Take(numberOfRows).ToArray();\n",
        "int[] times = trainDataView.GetColumn<int>(nameof(ReviewModel.unixReviewTime)).Take(numberOfRows).ToArray();\n",
        "string[] reviews = trainDataView.GetColumn<string>(nameof(ReviewModel.reviewText)).Take(numberOfRows).ToArray();\n",
        "string[] names = trainDataView.GetColumn<string>(nameof(ReviewModel.reviewerName)).Take(numberOfRows).ToArray();"
      ],
      "outputs": []
    },
    {
      "cell_type": "markdown",
      "metadata": {},
      "source": [
        "## Histogram numbers of scores"
      ]
    },
    {
      "cell_type": "code",
      "execution_count": 1,
      "metadata": {
        "dotnet_interactive": {
          "language": "csharp"
        }
      },
      "source": [
        "// Distribution of number of scores\n",
        "//XPlot Histogram reference: http://tpetricek.github.io/XPlot/reference/xplot-plotly-graph-histogram.html\n",
        "\n",
        "var faresHistogram = Chart.Plot(new Histogram(){x = scores, autobinx = false, nbinsx = 20});\n",
        "var layout = new Layout.Layout(){title=\"Number of scores\"};\n",
        "faresHistogram.WithLayout(layout);\n",
        "faresHistogram.WithXTitle(\"Scores\");\n",
        "faresHistogram.WithYTitle(\"Numbers\");\n",
        "faresHistogram.Show();\n",
        "display(faresHistogram);"
      ],
      "outputs": [
        {
          "output_type": "execute_result",
          "data": {
            "text/html": "<table><thead><tr><th>Height</th><th>Id</th><th>PlotlySrc</th><th>Width</th></tr></thead><tbody><tr><td><div class=\"dni-plaintext\">500</div></td><td><div class=\"dni-plaintext\">437ff2a3-66ca-4dfa-856f-3cae80c73bb3</div></td><td><div class=\"dni-plaintext\">https://cdn.plot.ly/plotly-latest.min.js</div></td><td><div class=\"dni-plaintext\">900</div></td></tr></tbody></table>"
          },
          "execution_count": 1,
          "metadata": {}
        }
      ]
    },
    {
      "cell_type": "markdown",
      "metadata": {},
      "source": [
        "## Score and Review Length"
      ]
    },
    {
      "cell_type": "code",
      "execution_count": 1,
      "metadata": {
        "dotnet_interactive": {
          "language": "csharp"
        }
      },
      "source": [
        "var chartFareVsTime = Chart.Plot(\n",
        "    new Scatter()\n",
        "    {\n",
        "        x =scores.Take(200) ,\n",
        "        y = reviews.Select(x=>x.Length).Take(200).ToArray(),\n",
        "        mode = \"markers\",\n",
        "        marker = new Marker()\n",
        "        {\n",
        "            color = scores,\n",
        "            colorscale = \"Jet\"\n",
        "        }\n",
        "    }\n",
        ");\n",
        "\n",
        "var layout = new Layout.Layout(){title=\"Plot score and review length\"};\n",
        "chartFareVsTime.WithLayout(layout);\n",
        "chartFareVsTime.Width = 500;\n",
        "chartFareVsTime.Height = 500;\n",
        "chartFareVsTime.WithXTitle(\"Scores\");\n",
        "chartFareVsTime.WithYTitle(\"Review Length\");\n",
        "chartFareVsTime.WithLegend(false);\n",
        "chartFareVsTime.Show();\n",
        "display(chartFareVsTime);"
      ],
      "outputs": [
        {
          "output_type": "execute_result",
          "data": {
            "text/html": "<table><thead><tr><th>Height</th><th>Id</th><th>PlotlySrc</th><th>Width</th></tr></thead><tbody><tr><td><div class=\"dni-plaintext\">500</div></td><td><div class=\"dni-plaintext\">36352054-7ce7-412d-b5df-ce1934fac704</div></td><td><div class=\"dni-plaintext\">https://cdn.plot.ly/plotly-latest.min.js</div></td><td><div class=\"dni-plaintext\">500</div></td></tr></tbody></table>"
          },
          "execution_count": 1,
          "metadata": {}
        }
      ]
    },
    {
      "cell_type": "code",
      "execution_count": 1,
      "metadata": {
        "dotnet_interactive": {
          "language": "csharp"
        }
      },
      "source": [
        "//var collection = products.GroupBy(x=>x.ProductId).OrderByDescending(x=>x.Count());\n",
        "//var scorses = collection.First(x=>x.Any(y=>y.Label<5)).Select(x=>x.Label).Take(500);\n",
        "//display(scorses);\n",
        "var chartFareVsTime = Chart.Plot(\n",
        "    new Box()\n",
        "    {\n",
        "        x =scores ,\n",
        "        y = reviews.Select(x=>x.Length).Where(x=>x<2000).ToArray()\n",
        "    }\n",
        ");\n",
        "\n",
        "var layout = new Layout.Layout(){title=\"Plot score and review length\"};\n",
        "chartFareVsTime.WithLayout(layout);\n",
        "chartFareVsTime.Width = 500;\n",
        "chartFareVsTime.Height = 500;\n",
        "chartFareVsTime.WithXTitle(\"Scores\");\n",
        "chartFareVsTime.WithYTitle(\"Review Length\");\n",
        "chartFareVsTime.WithLegend(false);\n",
        "chartFareVsTime.Show();\n",
        "display(chartFareVsTime);"
      ],
      "outputs": [
        {
          "output_type": "execute_result",
          "data": {
            "text/html": "<table><thead><tr><th>Height</th><th>Id</th><th>PlotlySrc</th><th>Width</th></tr></thead><tbody><tr><td><div class=\"dni-plaintext\">500</div></td><td><div class=\"dni-plaintext\">b27e193c-2ff3-4321-8e30-bb174521fede</div></td><td><div class=\"dni-plaintext\">https://cdn.plot.ly/plotly-latest.min.js</div></td><td><div class=\"dni-plaintext\">500</div></td></tr></tbody></table>"
          },
          "execution_count": 1,
          "metadata": {}
        }
      ]
    },
    {
      "cell_type": "code",
      "execution_count": 1,
      "metadata": {
        "dotnet_interactive": {
          "language": "csharp"
        }
      },
      "source": [
        ""
      ],
      "outputs": []
    },
    {
      "cell_type": "markdown",
      "metadata": {},
      "source": [
        "# Build and train model"
      ]
    },
    {
      "cell_type": "code",
      "execution_count": 1,
      "metadata": {
        "dotnet_interactive": {
          "language": "csharp"
        }
      },
      "source": [
        "IEstimator<ITransformer> estimator = mlContext\n",
        "    .Transforms\n",
        "    .Conversion\n",
        "    .MapValueToKey(outputColumnName: \"ReviewerIdEncoded\", inputColumnName: $\"{nameof(ReviewModel.reviewerID)}\")\n",
        "    .Append(mlContext\n",
        "        .Transforms\n",
        "        .Conversion\n",
        "        .MapValueToKey(outputColumnName: \"ProductIdEncoded\", inputColumnName: $\"{nameof(ReviewModel.asin)}\"));\n",
        "var options = new MatrixFactorizationTrainer.Options\n",
        "{\n",
        "    MatrixColumnIndexColumnName = \"ReviewerIdEncoded\",\n",
        "    MatrixRowIndexColumnName = \"ProductIdEncoded\",\n",
        "    LabelColumnName = $\"{nameof(ReviewModel.overall)}\",\n",
        "    NumberOfIterations = 20,\n",
        "    ApproximationRank = 100\n",
        "};\n",
        "var trainerEstimator = estimator\n",
        "    .Append(mlContext\n",
        "        .Recommendation()\n",
        "        .Trainers\n",
        "        .MatrixFactorization(options));\n",
        "Console.WriteLine(\"========================== Training the model =============================\");\n",
        "ITransformer model = trainerEstimator.Fit(trainDataView);\n",
        "display(model.GetOutputSchema(trainDataView.Schema))"
      ],
      "outputs": [
        {
          "output_type": "execute_result",
          "data": {
            "text/plain": "========================== Training the model =============================\r\n"
          },
          "execution_count": 1,
          "metadata": {}
        },
        {
          "output_type": "execute_result",
          "data": {
            "text/html": "<table><thead><tr><th><i>index</i></th><th>Name</th><th>Index</th><th>IsHidden</th><th>Type</th><th>Annotations</th></tr></thead><tbody><tr><td>0</td><td><div class=\"dni-plaintext\">reviewerID</div></td><td><div class=\"dni-plaintext\">0</div></td><td><div class=\"dni-plaintext\">False</div></td><td><div class=\"dni-plaintext\">String</div></td><td></td></tr><tr><td>1</td><td><div class=\"dni-plaintext\">asin</div></td><td><div class=\"dni-plaintext\">1</div></td><td><div class=\"dni-plaintext\">False</div></td><td><div class=\"dni-plaintext\">String</div></td><td></td></tr><tr><td>2</td><td><div class=\"dni-plaintext\">reviewerName</div></td><td><div class=\"dni-plaintext\">2</div></td><td><div class=\"dni-plaintext\">False</div></td><td><div class=\"dni-plaintext\">String</div></td><td></td></tr><tr><td>3</td><td><div class=\"dni-plaintext\">helpful</div></td><td><div class=\"dni-plaintext\">3</div></td><td><div class=\"dni-plaintext\">False</div></td><td><div class=\"dni-plaintext\">Vector&lt;Int32&gt;</div></td><td></td></tr><tr><td>4</td><td><div class=\"dni-plaintext\">reviewText</div></td><td><div class=\"dni-plaintext\">4</div></td><td><div class=\"dni-plaintext\">False</div></td><td><div class=\"dni-plaintext\">String</div></td><td></td></tr><tr><td>5</td><td><div class=\"dni-plaintext\">overall</div></td><td><div class=\"dni-plaintext\">5</div></td><td><div class=\"dni-plaintext\">False</div></td><td><div class=\"dni-plaintext\">Single</div></td><td></td></tr><tr><td>6</td><td><div class=\"dni-plaintext\">summary</div></td><td><div class=\"dni-plaintext\">6</div></td><td><div class=\"dni-plaintext\">False</div></td><td><div class=\"dni-plaintext\">String</div></td><td></td></tr><tr><td>7</td><td><div class=\"dni-plaintext\">unixReviewTime</div></td><td><div class=\"dni-plaintext\">7</div></td><td><div class=\"dni-plaintext\">False</div></td><td><div class=\"dni-plaintext\">Int32</div></td><td></td></tr><tr><td>8</td><td><div class=\"dni-plaintext\">reviewTime</div></td><td><div class=\"dni-plaintext\">8</div></td><td><div class=\"dni-plaintext\">False</div></td><td><div class=\"dni-plaintext\">String</div></td><td></td></tr><tr><td>9</td><td><div class=\"dni-plaintext\">ReviewerIdEncoded</div></td><td><div class=\"dni-plaintext\">9</div></td><td><div class=\"dni-plaintext\">False</div></td><td><div class=\"dni-plaintext\">Key&lt;UInt32, 0-39386&gt;</div></td><td><div class=\"dni-plaintext\">KeyValues</div></td></tr><tr><td>10</td><td><div class=\"dni-plaintext\">ProductIdEncoded</div></td><td><div class=\"dni-plaintext\">10</div></td><td><div class=\"dni-plaintext\">False</div></td><td><div class=\"dni-plaintext\">Key&lt;UInt32, 0-23032&gt;</div></td><td><div class=\"dni-plaintext\">KeyValues</div></td></tr><tr><td>11</td><td><div class=\"dni-plaintext\">Score</div></td><td><div class=\"dni-plaintext\">11</div></td><td><div class=\"dni-plaintext\">False</div></td><td><div class=\"dni-plaintext\">Single</div></td><td><div class=\"dni-plaintext\">ScoreColumnSetId, ScoreColumnKind, ScoreValueKind</div></td></tr></tbody></table>"
          },
          "execution_count": 1,
          "metadata": {}
        }
      ]
    },
    {
      "cell_type": "markdown",
      "metadata": {},
      "source": [
        "## Evaluate model"
      ]
    },
    {
      "cell_type": "code",
      "execution_count": 1,
      "metadata": {
        "dotnet_interactive": {
          "language": "csharp"
        }
      },
      "source": [
        "public static void EvaluateModel(MLContext mlContext, IDataView testDataView, ITransformer model)\n",
        "{\n",
        "    Console.WriteLine(\"========================== Evaluating the model =============================\");\n",
        "    var prediction = model.Transform(testDataView);\n",
        "    var metrics = mlContext\n",
        "        .Regression\n",
        "        .Evaluate(prediction, labelColumnName: $\"{nameof(ReviewModel.overall)}\", scoreColumnName: \"Score\");\n",
        "    Console.WriteLine(\"Root Mean Squared Error : \" + metrics.RootMeanSquaredError.ToString());\n",
        "    Console.WriteLine(\"RSquared: \" + metrics.RSquared.ToString());\n",
        "}\n",
        "EvaluateModel(mlContext, testDataView, model);"
      ],
      "outputs": [
        {
          "output_type": "execute_result",
          "data": {
            "text/plain": "========================== Evaluating the model =============================\r\n"
          },
          "execution_count": 1,
          "metadata": {}
        },
        {
          "output_type": "execute_result",
          "data": {
            "text/plain": "Root Mean Squared Error : 0.36576310438437654\r\n"
          },
          "execution_count": 1,
          "metadata": {}
        },
        {
          "output_type": "execute_result",
          "data": {
            "text/plain": "RSquared: 0.8836388861942855\r\n"
          },
          "execution_count": 1,
          "metadata": {}
        }
      ]
    },
    {
      "cell_type": "markdown",
      "metadata": {},
      "source": [
        "# Predict by model"
      ]
    },
    {
      "cell_type": "markdown",
      "metadata": {},
      "source": [
        "## Single prediction"
      ]
    },
    {
      "cell_type": "code",
      "execution_count": 1,
      "metadata": {
        "dotnet_interactive": {
          "language": "csharp"
        }
      },
      "source": [
        "public static void UseModelForSinglePrediction(MLContext mlContext, ITransformer model, IEnumerable<ReviewModel> products)\n",
        "{\n",
        "    Console.WriteLine(\"=========================== Making a prediction =============================\");\n",
        "    var predictionEngine = mlContext\n",
        "        .Model\n",
        "        .CreatePredictionEngine<ReviewModel, ProductPrediction>(model);\n",
        "\n",
        "    foreach(var product in products.GroupBy(x=>x.asin).Select(x=>x.Key).Take(10))\n",
        "    {\n",
        "        var testInput = new ReviewModel { reviewerID = \"A1KLRMWW2FWPL4\", asin = product};\n",
        "        var movieRatingPrediction = predictionEngine.Predict(testInput);\n",
        "        if (Math.Round(movieRatingPrediction.Score, 1) > 3.5)\n",
        "        {\n",
        "            Console.WriteLine(\"Product \" + testInput.asin + \" is recommended for user \" + testInput.reviewerID + \". Score=\" + movieRatingPrediction.Score);\n",
        "        }\n",
        "        else\n",
        "        {\n",
        "            Console.WriteLine(\"Product \" + testInput.asin + \" is not recommended for user \" + testInput.reviewerID + \". Score=\" + movieRatingPrediction.Score);\n",
        "        }\n",
        "    }\n",
        "}\n",
        "UseModelForSinglePrediction(mlContext, model, reviewsSrc);"
      ],
      "outputs": [
        {
          "output_type": "execute_result",
          "data": {
            "text/plain": "=========================== Making a prediction =============================\r\n"
          },
          "execution_count": 1,
          "metadata": {}
        },
        {
          "output_type": "execute_result",
          "data": {
            "text/plain": "Product 0000031887 is recommended for user A1KLRMWW2FWPL4. Score=4.721161\r\n"
          },
          "execution_count": 1,
          "metadata": {}
        },
        {
          "output_type": "execute_result",
          "data": {
            "text/plain": "Product 0123456479 is recommended for user A1KLRMWW2FWPL4. Score=4.6124706\r\n"
          },
          "execution_count": 1,
          "metadata": {}
        },
        {
          "output_type": "execute_result",
          "data": {
            "text/plain": "Product 1608299953 is recommended for user A1KLRMWW2FWPL4. Score=3.8849292\r\n"
          },
          "execution_count": 1,
          "metadata": {}
        },
        {
          "output_type": "execute_result",
          "data": {
            "text/plain": "Product 1617160377 is recommended for user A1KLRMWW2FWPL4. Score=4.823443\r\n"
          },
          "execution_count": 1,
          "metadata": {}
        },
        {
          "output_type": "execute_result",
          "data": {
            "text/plain": "Product B00001W0KA is recommended for user A1KLRMWW2FWPL4. Score=4.8082485\r\n"
          },
          "execution_count": 1,
          "metadata": {}
        },
        {
          "output_type": "execute_result",
          "data": {
            "text/plain": "Product B00001WRHJ is recommended for user A1KLRMWW2FWPL4. Score=4.034339\r\n"
          },
          "execution_count": 1,
          "metadata": {}
        },
        {
          "output_type": "execute_result",
          "data": {
            "text/plain": "Product B00004SR8W is recommended for user A1KLRMWW2FWPL4. Score=4.684068\r\n"
          },
          "execution_count": 1,
          "metadata": {}
        },
        {
          "output_type": "execute_result",
          "data": {
            "text/plain": "Product B00004SR8Z is recommended for user A1KLRMWW2FWPL4. Score=4.2584906\r\n"
          },
          "execution_count": 1,
          "metadata": {}
        },
        {
          "output_type": "execute_result",
          "data": {
            "text/plain": "Product B00004SR9P is recommended for user A1KLRMWW2FWPL4. Score=3.8755589\r\n"
          },
          "execution_count": 1,
          "metadata": {}
        },
        {
          "output_type": "execute_result",
          "data": {
            "text/plain": "Product B00004U1J2 is not recommended for user A1KLRMWW2FWPL4. Score=3.5261781\r\n"
          },
          "execution_count": 1,
          "metadata": {}
        }
      ]
    },
    {
      "cell_type": "markdown",
      "metadata": {},
      "source": [
        "## SaveModel"
      ]
    },
    {
      "cell_type": "code",
      "execution_count": 1,
      "metadata": {
        "dotnet_interactive": {
          "language": "csharp"
        }
      },
      "source": [
        "var modelPath = \"./Data/MovieRecommenderModel.zip\";\n",
        "public static void SaveModel(MLContext mlContext, DataViewSchema trainDataViewSchema, ITransformer model, string modelPath)\n",
        "{\n",
        "\n",
        "    Console.WriteLine(\"========================== Saving the model to a file ==================================\");\n",
        "    mlContext\n",
        "        .Model\n",
        "        .Save(model, trainDataViewSchema, modelPath);\n",
        "}\n",
        "SaveModel(mlContext, trainDataView.Schema, model, modelPath);"
      ],
      "outputs": [
        {
          "output_type": "execute_result",
          "data": {
            "text/plain": "========================== Saving the model to a file ==================================\r\n"
          },
          "execution_count": 1,
          "metadata": {}
        }
      ]
    },
    {
      "cell_type": "markdown",
      "metadata": {},
      "source": [
        "## Get Model from a file"
      ]
    },
    {
      "cell_type": "code",
      "execution_count": 1,
      "metadata": {
        "dotnet_interactive": {
          "language": "csharp"
        }
      },
      "source": [
        "MLContext mLContext = new MLContext();\n",
        "DataViewSchema schema;\n",
        "var model1 = mlContext.Model.Load(modelPath, out schema);"
      ],
      "outputs": []
    },
    {
      "cell_type": "markdown",
      "metadata": {},
      "source": [
        "## Evaluate model from a file"
      ]
    },
    {
      "cell_type": "code",
      "execution_count": 1,
      "metadata": {
        "dotnet_interactive": {
          "language": "csharp"
        }
      },
      "source": [
        "EvaluateModel(mlContext, testDataView, model1);"
      ],
      "outputs": [
        {
          "output_type": "execute_result",
          "data": {
            "text/plain": "========================== Evaluating the model =============================\r\n"
          },
          "execution_count": 1,
          "metadata": {}
        },
        {
          "output_type": "execute_result",
          "data": {
            "text/plain": "Root Mean Squared Error : 0.36576310438437654\r\n"
          },
          "execution_count": 1,
          "metadata": {}
        },
        {
          "output_type": "execute_result",
          "data": {
            "text/plain": "RSquared: 0.8836388861942855\r\n"
          },
          "execution_count": 1,
          "metadata": {}
        }
      ]
    }
  ],
  "metadata": {
    "kernelspec": {
      "display_name": ".NET (C#)",
      "language": "C#",
      "name": ".net-csharp"
    },
    "language_info": {
      "file_extension": ".cs",
      "mimetype": "text/x-csharp",
      "name": "C#",
      "pygments_lexer": "csharp",
      "version": "8.0"
    }
  },
  "nbformat": 4,
  "nbformat_minor": 4
}