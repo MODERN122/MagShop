{
  "cells": [
    {
      "cell_type": "markdown",
      "metadata": {},
      "source": [
        "# Prepare for data analyze"
      ]
    },
    {
      "cell_type": "code",
      "execution_count": null,
      "metadata": {
        "dotnet_interactive": {
          "language": "csharp"
        }
      },
      "outputs": [],
      "source": [
        "// ML.NET Nuget packages installation\n",
        "#r \"nuget:Microsoft.ML\"\n",
        "    \n",
        "//Install XPlot package\n",
        "#r \"nuget:XPlot.Plotly\"\n",
        "\n",
        "//Install Recommender\n",
        "#r \"nuget:Microsoft.ML.Recommender\"\n",
        "\n",
        "using Microsoft.ML;\n",
        "using Microsoft.ML.Recommender;\n",
        "using Microsoft.ML.Data;\n",
        "using Microsoft.ML.Trainers;\n",
        "using System.Linq;\n",
        "using System.Text.Json;\n",
        "using System.IO;\n",
        "using XPlot.Plotly;"
      ]
    },
    {
      "cell_type": "markdown",
      "metadata": {},
      "source": [
        "## Models"
      ]
    },
    {
      "cell_type": "code",
      "execution_count": null,
      "metadata": {
        "dotnet_interactive": {
          "language": "csharp"
        }
      },
      "outputs": [],
      "source": [
        "public class ReviewModel\n",
        "{\n",
        "    public string reviewerID { get; set; }\n",
        "    public string asin { get; set; }\n",
        "    public string reviewerName { get; set; }\n",
        "    public int[] helpful { get; set; }\n",
        "    public string reviewText { get; set; }\n",
        "    /// <summary>\n",
        "    /// Оценка\n",
        "    /// </summary>\n",
        "    public float overall { get; set; }\n",
        "    public string summary { get; set; }\n",
        "    public int unixReviewTime { get; set; }\n",
        "    public string reviewTime { get; set; }\n",
        "}\n",
        "public class ProductPrediction\n",
        "{\n",
        "    public string asin;\n",
        "    public float Score;\n",
        "}"
      ]
    },
    {
      "cell_type": "markdown",
      "metadata": {},
      "source": [
        "## Load Data"
      ]
    },
    {
      "cell_type": "code",
      "execution_count": null,
      "metadata": {
        "dotnet_interactive": {
          "language": "csharp"
        }
      },
      "outputs": [
        {
          "data": {
            "text/plain": "Schema of training DataView:"
          },
          "output_type": "unknown"
        },
        {
          "data": {
            "text/html": "<table><thead><tr><th><i>index</i></th><th>Values</th></tr></thead><tbody><tr><td>0</td><td><div class=\"dni-plaintext\">[ reviewerID: A1KLRMWW2FWPL4, asin: 0000031887, reviewerName: Amazon Customer &quot;cameramom&quot;, helpful: { Dense vector of size 2: IsDense: True, Length: 2 }, reviewText: This is a great tutu and at a really great price. It doesn&#39;t look cheap at all. I&#39;m so glad I looked on Amazon and found such an affordable tutu that isn&#39;t made poorly. A++, overall: 5, summary: Great tutu-  not cheaply made, unixReviewTime: 1297468800, reviewTime: 02 12, 2011 ]</div></td></tr></tbody></table>"
          },
          "output_type": "unknown"
        },
        {
          "data": {
            "text/html": "<div class=\"dni-plaintext\">222942</div>"
          },
          "output_type": "unknown"
        },
        {
          "data": {
            "text/html": "<div class=\"dni-plaintext\">278677</div>"
          },
          "output_type": "unknown"
        }
      ],
      "source": [
        "var fileName = \"./Data/Clothing_Shoes_and_Jewelry_5.json\";\r\n",
        "var jsonString = File.ReadAllText(fileName);\r\n",
        "jsonString = jsonString.Replace('\\n', ',');\r\n",
        "var reviewsSrc = Newtonsoft.Json.JsonConvert.DeserializeObject<List<ReviewModel>>(\"[\"+jsonString+\"]\");\r\n",
        "MLContext mlContext = new MLContext();\r\n",
        "int countTest = reviewsSrc.Count()/5;\r\n",
        "var trainDataView = mlContext.Data.LoadFromEnumerable<ReviewModel>(reviewsSrc);\r\n",
        "var testDataView = mlContext.Data.LoadFromEnumerable<ReviewModel>(reviewsSrc.Take(countTest));\r\n",
        "display(\"Schema of training DataView:\");\r\n",
        "display(trainDataView.Preview(1).RowView);\r\n",
        "display(reviewsSrc.Skip(countTest).ToList().Count);\r\n",
        "display(reviewsSrc.Count);"
      ]
    },
    {
      "cell_type": "markdown",
      "metadata": {
        "dotnet_interactive": {
          "language": "markdown"
        }
      },
      "source": [
        "# Histograms"
      ]
    },
    {
      "cell_type": "markdown",
      "metadata": {},
      "source": [
        "## Get columns"
      ]
    },
    {
      "cell_type": "code",
      "execution_count": null,
      "metadata": {
        "dotnet_interactive": {
          "language": "csharp"
        }
      },
      "outputs": [],
      "source": [
        "//Extract some data into arrays for plotting:\n",
        "\n",
        "int numberOfRows = 1000;\n",
        "float[] scores = trainDataView.GetColumn<float>(nameof(ReviewModel.overall)).Take(numberOfRows).ToArray();\n",
        "int[] times = trainDataView.GetColumn<int>(nameof(ReviewModel.unixReviewTime)).Take(numberOfRows).ToArray();\n",
        "string[] reviews = trainDataView.GetColumn<string>(nameof(ReviewModel.reviewText)).Take(numberOfRows).ToArray();\n",
        "string[] names = trainDataView.GetColumn<string>(nameof(ReviewModel.reviewerName)).Take(numberOfRows).ToArray();"
      ]
    },
    {
      "cell_type": "markdown",
      "metadata": {},
      "source": [
        "## Histogram numbers of scores"
      ]
    },
    {
      "cell_type": "code",
      "execution_count": null,
      "metadata": {
        "dotnet_interactive": {
          "language": "csharp"
        }
      },
      "outputs": [
        {
          "data": {
            "text/html": "<table><thead><tr><th>Height</th><th>Id</th><th>PlotlySrc</th><th>Width</th></tr></thead><tbody><tr><td><div class=\"dni-plaintext\">500</div></td><td><div class=\"dni-plaintext\">3285a307-3868-4117-9aef-bb7b5bea08fa</div></td><td><div class=\"dni-plaintext\">https://cdn.plot.ly/plotly-latest.min.js</div></td><td><div class=\"dni-plaintext\">900</div></td></tr></tbody></table>"
          },
          "output_type": "unknown"
        }
      ],
      "source": [
        "// Distribution of number of scores\n",
        "//XPlot Histogram reference: http://tpetricek.github.io/XPlot/reference/xplot-plotly-graph-histogram.html\n",
        "\n",
        "var faresHistogram = Chart.Plot(new Histogram(){x = scores, autobinx = false, nbinsx = 20});\n",
        "var layout = new Layout.Layout(){title=\"Number of scores\"};\n",
        "faresHistogram.WithLayout(layout);\n",
        "faresHistogram.WithXTitle(\"Scores\");\n",
        "faresHistogram.WithYTitle(\"Numbers\");\n",
        "faresHistogram.Show();\n",
        "display(faresHistogram);"
      ]
    },
    {
      "cell_type": "markdown",
      "metadata": {},
      "source": [
        "## Score and Review Length"
      ]
    },
    {
      "cell_type": "code",
      "execution_count": null,
      "metadata": {
        "dotnet_interactive": {
          "language": "csharp"
        }
      },
      "outputs": [
        {
          "data": {
            "text/html": "<table><thead><tr><th>Height</th><th>Id</th><th>PlotlySrc</th><th>Width</th></tr></thead><tbody><tr><td><div class=\"dni-plaintext\">500</div></td><td><div class=\"dni-plaintext\">12639852-f618-4601-85fc-3f69cc927994</div></td><td><div class=\"dni-plaintext\">https://cdn.plot.ly/plotly-latest.min.js</div></td><td><div class=\"dni-plaintext\">500</div></td></tr></tbody></table>"
          },
          "output_type": "unknown"
        }
      ],
      "source": [
        "var chartFareVsTime = Chart.Plot(\n",
        "    new Scatter()\n",
        "    {\n",
        "        x =scores.Take(200) ,\n",
        "        y = reviews.Select(x=>x.Length).Take(200).ToArray(),\n",
        "        mode = \"markers\",\n",
        "        marker = new Marker()\n",
        "        {\n",
        "            color = scores,\n",
        "            colorscale = \"Jet\"\n",
        "        }\n",
        "    }\n",
        ");\n",
        "\n",
        "var layout = new Layout.Layout(){title=\"Plot score and review length\"};\n",
        "chartFareVsTime.WithLayout(layout);\n",
        "chartFareVsTime.Width = 500;\n",
        "chartFareVsTime.Height = 500;\n",
        "chartFareVsTime.WithXTitle(\"Scores\");\n",
        "chartFareVsTime.WithYTitle(\"Review Length\");\n",
        "chartFareVsTime.WithLegend(false);\n",
        "chartFareVsTime.Show();\n",
        "display(chartFareVsTime);"
      ]
    },
    {
      "cell_type": "code",
      "execution_count": null,
      "metadata": {
        "dotnet_interactive": {
          "language": "csharp"
        }
      },
      "outputs": [
        {
          "data": {
            "text/html": "<table><thead><tr><th>Height</th><th>Id</th><th>PlotlySrc</th><th>Width</th></tr></thead><tbody><tr><td><div class=\"dni-plaintext\">500</div></td><td><div class=\"dni-plaintext\">aefceed3-d0db-474e-bf33-fb883e095353</div></td><td><div class=\"dni-plaintext\">https://cdn.plot.ly/plotly-latest.min.js</div></td><td><div class=\"dni-plaintext\">500</div></td></tr></tbody></table>"
          },
          "output_type": "unknown"
        }
      ],
      "source": [
        "//var collection = products.GroupBy(x=>x.ProductId).OrderByDescending(x=>x.Count());\n",
        "//var scorses = collection.First(x=>x.Any(y=>y.Label<5)).Select(x=>x.Label).Take(500);\n",
        "//display(scorses);\n",
        "var chartFareVsTime = Chart.Plot(\n",
        "    new Box()\n",
        "    {\n",
        "        x =scores ,\n",
        "        y = reviews.Select(x=>x.Length).Where(x=>x<2000).ToArray()\n",
        "    }\n",
        ");\n",
        "\n",
        "var layout = new Layout.Layout(){title=\"Plot score and review length\"};\n",
        "chartFareVsTime.WithLayout(layout);\n",
        "chartFareVsTime.Width = 500;\n",
        "chartFareVsTime.Height = 500;\n",
        "chartFareVsTime.WithXTitle(\"Scores\");\n",
        "chartFareVsTime.WithYTitle(\"Review Length\");\n",
        "chartFareVsTime.WithLegend(false);\n",
        "chartFareVsTime.Show();\n",
        "display(chartFareVsTime);"
      ]
    },
    {
      "cell_type": "markdown",
      "metadata": {},
      "source": [
        "# Build and train model"
      ]
    },
    {
      "cell_type": "code",
      "execution_count": null,
      "metadata": {
        "dotnet_interactive": {
          "language": "csharp"
        }
      },
      "outputs": [
        {
          "data": {
            "text/plain": "========================== Training the model =============================\r\n"
          },
          "output_type": "unknown"
        },
        {
          "data": {
            "text/html": "<table><thead><tr><th><i>index</i></th><th>Name</th><th>Index</th><th>IsHidden</th><th>Type</th><th>Annotations</th></tr></thead><tbody><tr><td>0</td><td>reviewerID</td><td><div class=\"dni-plaintext\">0</div></td><td><div class=\"dni-plaintext\">False</div></td><td><table><thead><tr><th>RawType</th></tr></thead><tbody><tr><td><div class=\"dni-plaintext\">System.ReadOnlyMemory&lt;System.Char&gt;</div></td></tr></tbody></table></td><td><table><thead><tr><th>Schema</th></tr></thead><tbody><tr><td><div class=\"dni-plaintext\">[  ]</div></td></tr></tbody></table></td></tr><tr><td>1</td><td>asin</td><td><div class=\"dni-plaintext\">1</div></td><td><div class=\"dni-plaintext\">False</div></td><td><table><thead><tr><th>RawType</th></tr></thead><tbody><tr><td><div class=\"dni-plaintext\">System.ReadOnlyMemory&lt;System.Char&gt;</div></td></tr></tbody></table></td><td><table><thead><tr><th>Schema</th></tr></thead><tbody><tr><td><div class=\"dni-plaintext\">[  ]</div></td></tr></tbody></table></td></tr><tr><td>2</td><td>reviewerName</td><td><div class=\"dni-plaintext\">2</div></td><td><div class=\"dni-plaintext\">False</div></td><td><table><thead><tr><th>RawType</th></tr></thead><tbody><tr><td><div class=\"dni-plaintext\">System.ReadOnlyMemory&lt;System.Char&gt;</div></td></tr></tbody></table></td><td><table><thead><tr><th>Schema</th></tr></thead><tbody><tr><td><div class=\"dni-plaintext\">[  ]</div></td></tr></tbody></table></td></tr><tr><td>3</td><td>helpful</td><td><div class=\"dni-plaintext\">3</div></td><td><div class=\"dni-plaintext\">False</div></td><td><table><thead><tr><th>Dimensions</th><th>IsKnownSize</th><th>ItemType</th><th>Size</th><th>RawType</th></tr></thead><tbody><tr><td><div class=\"dni-plaintext\">[ 0 ]</div></td><td><div class=\"dni-plaintext\">False</div></td><td><div class=\"dni-plaintext\">{ Int32: RawType: System.Int32 }</div></td><td><div class=\"dni-plaintext\">0</div></td><td><div class=\"dni-plaintext\">Microsoft.ML.Data.VBuffer&lt;System.Int32&gt;</div></td></tr></tbody></table></td><td><table><thead><tr><th>Schema</th></tr></thead><tbody><tr><td><div class=\"dni-plaintext\">[  ]</div></td></tr></tbody></table></td></tr><tr><td>4</td><td>reviewText</td><td><div class=\"dni-plaintext\">4</div></td><td><div class=\"dni-plaintext\">False</div></td><td><table><thead><tr><th>RawType</th></tr></thead><tbody><tr><td><div class=\"dni-plaintext\">System.ReadOnlyMemory&lt;System.Char&gt;</div></td></tr></tbody></table></td><td><table><thead><tr><th>Schema</th></tr></thead><tbody><tr><td><div class=\"dni-plaintext\">[  ]</div></td></tr></tbody></table></td></tr><tr><td>5</td><td>overall</td><td><div class=\"dni-plaintext\">5</div></td><td><div class=\"dni-plaintext\">False</div></td><td><table><thead><tr><th>RawType</th></tr></thead><tbody><tr><td><div class=\"dni-plaintext\">System.Single</div></td></tr></tbody></table></td><td><table><thead><tr><th>Schema</th></tr></thead><tbody><tr><td><div class=\"dni-plaintext\">[  ]</div></td></tr></tbody></table></td></tr><tr><td>6</td><td>summary</td><td><div class=\"dni-plaintext\">6</div></td><td><div class=\"dni-plaintext\">False</div></td><td><table><thead><tr><th>RawType</th></tr></thead><tbody><tr><td><div class=\"dni-plaintext\">System.ReadOnlyMemory&lt;System.Char&gt;</div></td></tr></tbody></table></td><td><table><thead><tr><th>Schema</th></tr></thead><tbody><tr><td><div class=\"dni-plaintext\">[  ]</div></td></tr></tbody></table></td></tr><tr><td>7</td><td>unixReviewTime</td><td><div class=\"dni-plaintext\">7</div></td><td><div class=\"dni-plaintext\">False</div></td><td><table><thead><tr><th>RawType</th></tr></thead><tbody><tr><td><div class=\"dni-plaintext\">System.Int32</div></td></tr></tbody></table></td><td><table><thead><tr><th>Schema</th></tr></thead><tbody><tr><td><div class=\"dni-plaintext\">[  ]</div></td></tr></tbody></table></td></tr><tr><td>8</td><td>reviewTime</td><td><div class=\"dni-plaintext\">8</div></td><td><div class=\"dni-plaintext\">False</div></td><td><table><thead><tr><th>RawType</th></tr></thead><tbody><tr><td><div class=\"dni-plaintext\">System.ReadOnlyMemory&lt;System.Char&gt;</div></td></tr></tbody></table></td><td><table><thead><tr><th>Schema</th></tr></thead><tbody><tr><td><div class=\"dni-plaintext\">[  ]</div></td></tr></tbody></table></td></tr><tr><td>9</td><td>ReviewerIdEncoded</td><td><div class=\"dni-plaintext\">9</div></td><td><div class=\"dni-plaintext\">False</div></td><td><table><thead><tr><th>Count</th><th>RawType</th></tr></thead><tbody><tr><td><div class=\"dni-plaintext\">39387</div></td><td><div class=\"dni-plaintext\">System.UInt32</div></td></tr></tbody></table></td><td><table><thead><tr><th>Schema</th></tr></thead><tbody><tr><td><div class=\"dni-plaintext\">[ { KeyValues: Vector&lt;String, 39387&gt;: Name: KeyValues, Index: 0, IsHidden: False, Type: { Vector&lt;String, 39387&gt;: Dimensions: [ 39387 ], IsKnownSize: True, ItemType: { String: RawType: System.ReadOnlyMemory`1[System.Char] }, Size: 39387, RawType: Microsoft.ML.Data.VBuffer&lt;System.ReadOnlyMemory&lt;System.Char&gt;&gt; }, Annotations: { : Schema: [  ] } } ]</div></td></tr></tbody></table></td></tr><tr><td>10</td><td>ProductIdEncoded</td><td><div class=\"dni-plaintext\">10</div></td><td><div class=\"dni-plaintext\">False</div></td><td><table><thead><tr><th>Count</th><th>RawType</th></tr></thead><tbody><tr><td><div class=\"dni-plaintext\">23033</div></td><td><div class=\"dni-plaintext\">System.UInt32</div></td></tr></tbody></table></td><td><table><thead><tr><th>Schema</th></tr></thead><tbody><tr><td><div class=\"dni-plaintext\">[ { KeyValues: Vector&lt;String, 23033&gt;: Name: KeyValues, Index: 0, IsHidden: False, Type: { Vector&lt;String, 23033&gt;: Dimensions: [ 23033 ], IsKnownSize: True, ItemType: { String: RawType: System.ReadOnlyMemory`1[System.Char] }, Size: 23033, RawType: Microsoft.ML.Data.VBuffer&lt;System.ReadOnlyMemory&lt;System.Char&gt;&gt; }, Annotations: { : Schema: [  ] } } ]</div></td></tr></tbody></table></td></tr><tr><td>11</td><td>Score</td><td><div class=\"dni-plaintext\">11</div></td><td><div class=\"dni-plaintext\">False</div></td><td><table><thead><tr><th>RawType</th></tr></thead><tbody><tr><td><div class=\"dni-plaintext\">System.Single</div></td></tr></tbody></table></td><td><table><thead><tr><th>Schema</th></tr></thead><tbody><tr><td><div class=\"dni-plaintext\">[ { ScoreColumnSetId: Key&lt;UInt32, 0-2147483646&gt;: Name: ScoreColumnSetId, Index: 0, IsHidden: False, Type: { Key&lt;UInt32, 0-2147483646&gt;: Count: 2147483647, RawType: System.UInt32 }, Annotations: { : Schema: [  ] } }, { ScoreColumnKind: String: Name: ScoreColumnKind, Index: 1, IsHidden: False, Type: { String: RawType: System.ReadOnlyMemory&lt;System.Char&gt; }, Annotations: { : Schema: [  ] } }, { ScoreValueKind: String: Name: ScoreValueKind, Index: 2, IsHidden: False, Type: { String: RawType: System.ReadOnlyMemory&lt;System.Char&gt; }, Annotations: { : Schema: [  ] } } ]</div></td></tr></tbody></table></td></tr></tbody></table>"
          },
          "output_type": "unknown"
        }
      ],
      "source": [
        "IEstimator<ITransformer> estimator = mlContext\n",
        "    .Transforms\n",
        "    .Conversion\n",
        "    .MapValueToKey(outputColumnName: \"ReviewerIdEncoded\", inputColumnName: $\"{nameof(ReviewModel.reviewerID)}\")\n",
        "    .Append(mlContext\n",
        "        .Transforms\n",
        "        .Conversion\n",
        "        .MapValueToKey(outputColumnName: \"ProductIdEncoded\", inputColumnName: $\"{nameof(ReviewModel.asin)}\"));\n",
        "var options = new MatrixFactorizationTrainer.Options\n",
        "{\n",
        "    MatrixColumnIndexColumnName = \"ReviewerIdEncoded\",\n",
        "    MatrixRowIndexColumnName = \"ProductIdEncoded\",\n",
        "    LabelColumnName = $\"{nameof(ReviewModel.overall)}\",\n",
        "    NumberOfIterations = 20,\n",
        "    ApproximationRank = 100\n",
        "};\n",
        "var trainerEstimator = estimator\n",
        "    .Append(mlContext\n",
        "        .Recommendation()\n",
        "        .Trainers\n",
        "        .MatrixFactorization(options));\n",
        "Console.WriteLine(\"========================== Training the model =============================\");\n",
        "ITransformer model = trainerEstimator.Fit(trainDataView);\n",
        "display(model.GetOutputSchema(trainDataView.Schema))"
      ]
    },
    {
      "cell_type": "markdown",
      "metadata": {},
      "source": [
        "## Evaluate model"
      ]
    },
    {
      "cell_type": "code",
      "execution_count": null,
      "metadata": {
        "dotnet_interactive": {
          "language": "csharp"
        }
      },
      "outputs": [
        {
          "data": {
            "text/plain": "========================== Evaluating the model =============================\r\n"
          },
          "output_type": "unknown"
        },
        {
          "data": {
            "text/plain": "Root Mean Squared Error : 0,36354854529594377\r\n"
          },
          "output_type": "unknown"
        },
        {
          "data": {
            "text/plain": "RSquared: 0,8871808716399533\r\n"
          },
          "output_type": "unknown"
        }
      ],
      "source": [
        "public static void EvaluateModel(MLContext mlContext, IDataView testDataView, ITransformer model)\n",
        "{\n",
        "    Console.WriteLine(\"========================== Evaluating the model =============================\");\n",
        "    var prediction = model.Transform(testDataView);\n",
        "    var metrics = mlContext\n",
        "        .Regression\n",
        "        .Evaluate(prediction, labelColumnName: $\"{nameof(ReviewModel.overall)}\", scoreColumnName: $\"{nameof(ProductPrediction.Score)}\");\n",
        "    Console.WriteLine(\"Root Mean Squared Error : \" + metrics.RootMeanSquaredError.ToString());\n",
        "    Console.WriteLine(\"RSquared: \" + metrics.RSquared.ToString());\n",
        "}\n",
        "EvaluateModel(mlContext, testDataView, model);"
      ]
    },
    {
      "cell_type": "markdown",
      "metadata": {},
      "source": [
        "# Predict by model"
      ]
    },
    {
      "cell_type": "markdown",
      "metadata": {},
      "source": [
        "## Single prediction"
      ]
    },
    {
      "cell_type": "code",
      "execution_count": null,
      "metadata": {
        "dotnet_interactive": {
          "language": "csharp"
        }
      },
      "outputs": [
        {
          "data": {
            "text/plain": "=========================== Making a prediction =============================\r\n"
          },
          "output_type": "unknown"
        },
        {
          "data": {
            "text/plain": "Product 0000031887 is recommended for user A1KLRMWW2FWPL4. Score=4,799408\r\n"
          },
          "output_type": "unknown"
        },
        {
          "data": {
            "text/plain": "Product 0123456479 is recommended for user A1KLRMWW2FWPL4. Score=4,8967004\r\n"
          },
          "output_type": "unknown"
        },
        {
          "data": {
            "text/plain": "Product 1608299953 is recommended for user A1KLRMWW2FWPL4. Score=3,7692087\r\n"
          },
          "output_type": "unknown"
        },
        {
          "data": {
            "text/plain": "Product 1617160377 is recommended for user A1KLRMWW2FWPL4. Score=4,961419\r\n"
          },
          "output_type": "unknown"
        },
        {
          "data": {
            "text/plain": "Product B00001W0KA is recommended for user A1KLRMWW2FWPL4. Score=4,985507\r\n"
          },
          "output_type": "unknown"
        },
        {
          "data": {
            "text/plain": "Product B00001WRHJ is recommended for user A1KLRMWW2FWPL4. Score=4,12987\r\n"
          },
          "output_type": "unknown"
        },
        {
          "data": {
            "text/plain": "Product B00004SR8W is recommended for user A1KLRMWW2FWPL4. Score=4,3379045\r\n"
          },
          "output_type": "unknown"
        },
        {
          "data": {
            "text/plain": "Product B00004SR8Z is recommended for user A1KLRMWW2FWPL4. Score=4,1612067\r\n"
          },
          "output_type": "unknown"
        },
        {
          "data": {
            "text/plain": "Product B00004SR9P is recommended for user A1KLRMWW2FWPL4. Score=3,9366279\r\n"
          },
          "output_type": "unknown"
        },
        {
          "data": {
            "text/plain": "Product B00004U1J2 is not recommended for user A1KLRMWW2FWPL4. Score=3,4680696\r\n"
          },
          "output_type": "unknown"
        }
      ],
      "source": [
        "public static void UseModelForSinglePrediction(MLContext mlContext, ITransformer model, IEnumerable<ReviewModel> products)\n",
        "{\n",
        "    Console.WriteLine(\"=========================== Making a prediction =============================\");\n",
        "    var predictionEngine = mlContext\n",
        "        .Model\n",
        "        .CreatePredictionEngine<ReviewModel, ProductPrediction>(model);\n",
        "\n",
        "    foreach(var product in products.GroupBy(x=>x.asin).Select(x=>x.Key).Take(10))\n",
        "    {\n",
        "        var testInput = new ReviewModel { reviewerID = \"A1KLRMWW2FWPL4\", asin = product};\n",
        "        var movieRatingPrediction = predictionEngine.Predict(testInput);\n",
        "        if (Math.Round(movieRatingPrediction.Score, 1) > 3.5)\n",
        "        {\n",
        "            Console.WriteLine(\"Product \" + testInput.asin + \" is recommended for user \" + testInput.reviewerID + \". Score=\" + movieRatingPrediction.Score);\n",
        "        }\n",
        "        else\n",
        "        {\n",
        "            Console.WriteLine(\"Product \" + testInput.asin + \" is not recommended for user \" + testInput.reviewerID + \". Score=\" + movieRatingPrediction.Score);\n",
        "        }\n",
        "    }\n",
        "}\n",
        "UseModelForSinglePrediction(mlContext, model, reviewsSrc);"
      ]
    },
    {
      "cell_type": "markdown",
      "metadata": {},
      "source": [
        "## SaveModel"
      ]
    },
    {
      "cell_type": "code",
      "execution_count": null,
      "metadata": {
        "dotnet_interactive": {
          "language": "csharp"
        }
      },
      "outputs": [
        {
          "data": {
            "text/plain": "========================== Saving the model to a file ==================================\r\n"
          },
          "output_type": "unknown"
        }
      ],
      "source": [
        "var modelPath = \"./Data/MovieRecommenderModel.zip\";\n",
        "public static void SaveModel(MLContext mlContext, DataViewSchema trainDataViewSchema, ITransformer model, string modelPath)\n",
        "{\n",
        "\n",
        "    Console.WriteLine(\"========================== Saving the model to a file ==================================\");\n",
        "    mlContext\n",
        "        .Model\n",
        "        .Save(model, trainDataViewSchema, modelPath);\n",
        "}\n",
        "SaveModel(mlContext, trainDataView.Schema, model, modelPath);"
      ]
    },
    {
      "cell_type": "markdown",
      "metadata": {},
      "source": [
        "## Get Model from a file"
      ]
    },
    {
      "cell_type": "code",
      "execution_count": null,
      "metadata": {
        "dotnet_interactive": {
          "language": "csharp"
        }
      },
      "outputs": [],
      "source": [
        "MLContext mLContext = new MLContext();\n",
        "DataViewSchema schema;\n",
        "var model1 = mlContext.Model.Load(modelPath, out schema);"
      ]
    },
    {
      "cell_type": "markdown",
      "metadata": {},
      "source": [
        "## Evaluate model from a file"
      ]
    },
    {
      "cell_type": "code",
      "execution_count": null,
      "metadata": {
        "dotnet_interactive": {
          "language": "csharp"
        }
      },
      "outputs": [
        {
          "data": {
            "text/plain": "========================== Evaluating the model =============================\r\n"
          },
          "output_type": "unknown"
        },
        {
          "data": {
            "text/plain": "Root Mean Squared Error : 0,36354854529594377\r\n"
          },
          "output_type": "unknown"
        },
        {
          "data": {
            "text/plain": "RSquared: 0,8871808716399533\r\n"
          },
          "output_type": "unknown"
        }
      ],
      "source": [
        "EvaluateModel(mlContext, testDataView, model1);"
      ]
    }
  ],
  "metadata": {
    "kernelspec": {
      "display_name": ".NET (C#)",
      "language": "C#",
      "name": ".net-csharp"
    },
    "language_info": {
      "file_extension": ".cs",
      "mimetype": "text/x-csharp",
      "name": "C#",
      "pygments_lexer": "csharp",
      "version": "9.0"
    }
  },
  "nbformat": 4,
  "nbformat_minor": 4
}